{
  "cells": [
    {
      "cell_type": "markdown",
      "metadata": {
        "id": "DA8APEBaWGfR"
      },
      "source": [
        "# NLP - TP Final\n",
        "\n",
        "Augusto Rabbia"
      ]
    },
    {
      "cell_type": "markdown",
      "metadata": {
        "id": "_JhDh_zgUQjC"
      },
      "source": [
        "# Inicializar datos y Modelos"
      ]
    },
    {
      "cell_type": "code",
      "execution_count": null,
      "metadata": {
        "id": "cJJvuVttUJcV"
      },
      "outputs": [],
      "source": [
        "import pandas as pd\n",
        "import zipfile\n",
        "import os\n",
        "\n",
        "# LLM para generación\n",
        "from huggingface_hub import InferenceClient\n",
        "\n",
        "# Sentence Embedding\n",
        "from transformers import AutoTokenizer, AutoModel\n",
        "import torch\n",
        "\n",
        "import requests"
      ]
    },
    {
      "cell_type": "markdown",
      "metadata": {
        "id": "WIHGJo7UgmSU"
      },
      "source": [
        "Obtenemos los datos del archivo .zip"
      ]
    },
    {
      "cell_type": "code",
      "execution_count": null,
      "metadata": {
        "colab": {
          "base_uri": "https://localhost:8080/"
        },
        "id": "6ZxSsFA7WMb4",
        "outputId": "6998bcfa-6575-4920-b2b8-f71078b2ed4f"
      },
      "outputs": [
        {
          "name": "stdout",
          "output_type": "stream",
          "text": [
            "datos/\n",
            "    queries_clasificador.csv\n",
            "    informacion/\n",
            "        review_bgg.txt\n",
            "        video3.txt\n",
            "        manual.txt\n",
            "        video1.txt\n",
            "        video2.txt\n",
            "        review_externa.txt\n",
            "        df_foros_bgg.csv\n",
            "        video4.txt\n",
            "    relaciones/\n",
            "        creditos_relaciones.csv\n",
            "    estadisticas/\n",
            "        estadisticas.csv\n"
          ]
        }
      ],
      "source": [
        "with zipfile.ZipFile('Datos TP1.zip', 'r') as zip_ref:\n",
        "    zip_ref.extractall('.')\n",
        "\n",
        "def list_files(startpath):\n",
        "    for root, dirs, files in os.walk(startpath):\n",
        "        if os.path.basename(root).startswith('.'): # Ignorar ipynb checkpoint\n",
        "            continue\n",
        "        level = root.replace(startpath, '').count(os.sep)\n",
        "        indent = ' ' * 4 * (level)\n",
        "        print('{}{}/'.format(indent, os.path.basename(root)))\n",
        "        subindent = ' ' * 4 * (level + 1)\n",
        "        for f in files:\n",
        "            print('{}{}'.format(subindent, f))\n",
        "list_files('datos')"
      ]
    },
    {
      "cell_type": "markdown",
      "metadata": {
        "id": "rATHxlmMgk7N"
      },
      "source": [
        "El modelo de Phi-2 de Microsoft se utilizará para generación de texto a lo largo del trabajo.\n",
        "\n"
      ]
    },
    {
      "cell_type": "code",
      "execution_count": null,
      "metadata": {
        "id": "CccN8x7-gat-"
      },
      "outputs": [],
      "source": [
        "API_KEY = \"\"\n",
        "\n",
        "class LanguageModel():\n",
        "    def __init__(self, init_function, generation_function):\n",
        "        self._model = init_function()\n",
        "        self._generation_function = generation_function\n",
        "\n",
        "    def generar_respuesta(self, prompt):\n",
        "        return self._generation_function(self._model, prompt)\n",
        "\n",
        "def init_mistral():\n",
        "    client = InferenceClient(\n",
        "        provider=\"novita\",  # Puede cambiar si el proveedor es distinto\n",
        "        api_key=API_KEY,\n",
        "    )\n",
        "    return client\n",
        "\n",
        "def gen_mistral(client, prompt):\n",
        "    response = client.chat.completions.create(\n",
        "        model=\"mistralai/Mistral-7B-Instruct-v0.3\",\n",
        "        messages=[\n",
        "            {\n",
        "                \"role\": \"user\",\n",
        "                \"content\": prompt\n",
        "            }\n",
        "        ]\n",
        "    )\n",
        "    return response.choices[0].message.content\n",
        "\n",
        "llm_mistral = LanguageModel(init_mistral, gen_mistral)"
      ]
    },
    {
      "cell_type": "markdown",
      "metadata": {
        "id": "NIAGnWPYl9Ma"
      },
      "source": [
        "Para embedding, se utilizarán AutoTokenizer y `multilingual-e5-small` a lo largo del trabajo."
      ]
    },
    {
      "cell_type": "code",
      "execution_count": null,
      "metadata": {
        "colab": {
          "base_uri": "https://localhost:8080/",
          "height": 49,
          "referenced_widgets": [
            "69dd2f6aeffd44fabbb5c385901ec55f",
            "aa1bf011eece44919f621aa75a525470",
            "c6872a37d6f24dec9e92eeaf275375c5",
            "845ea61aa467418dad8625706aad0984",
            "e1543b2e61ef4f2eae3a0cb002ebc431",
            "064818bea43f4b52a3e1fd11dbdee092",
            "2e1685fae7ee421e9b38593e0c78e0bf",
            "0ceff66ddf6648feba6eed5a19d1d374",
            "40d58a8ea18140e6afb6c22ee9e07922",
            "b7e3cc68f2dc476993ecc23eb99bdd0f",
            "d25c9a881a604dd2ad95697900003318"
          ]
        },
        "id": "Plp4kRiCmAyI",
        "outputId": "37ff453d-d40c-4a1d-fdbc-0f7dba68d4f0"
      },
      "outputs": [
        {
          "data": {
            "application/vnd.jupyter.widget-view+json": {
              "model_id": "69dd2f6aeffd44fabbb5c385901ec55f",
              "version_major": 2,
              "version_minor": 0
            },
            "text/plain": [
              "model.safetensors:   0%|          | 0.00/471M [00:00<?, ?B/s]"
            ]
          },
          "metadata": {},
          "output_type": "display_data"
        }
      ],
      "source": [
        "model_name = \"intfloat/multilingual-e5-small\"\n",
        "tokenizer = AutoTokenizer.from_pretrained(model_name)\n",
        "embedder = AutoModel.from_pretrained(model_name)"
      ]
    },
    {
      "cell_type": "markdown",
      "metadata": {
        "id": "rgPOi48KgTTR"
      },
      "source": [
        "# Crear Bases de Datos de Búsqueda"
      ]
    },
    {
      "cell_type": "markdown",
      "metadata": {
        "id": "qR6r8IElZNim"
      },
      "source": [
        "## BD Vectorial de Texto\n",
        "\n",
        "Se hará embedding del texto utilizando el modelo `e5-multilingual-small` y la BD vectorial será utilizando ChromaDB."
      ]
    },
    {
      "cell_type": "markdown",
      "metadata": {
        "id": "1e3P3RL4oDY6"
      },
      "source": [
        "Instalar e importar librerías"
      ]
    },
    {
      "cell_type": "code",
      "execution_count": null,
      "metadata": {
        "colab": {
          "base_uri": "https://localhost:8080/"
        },
        "id": "MJ4ygXyomKCY",
        "outputId": "5077d24f-384e-4798-bf19-8fcb84633484"
      },
      "outputs": [
        {
          "name": "stdout",
          "output_type": "stream",
          "text": [
            "\u001b[?25l     \u001b[90m━━━━━━━━━━━━━━━━━━━━━━━━━━━━━━━━━━━━━━━━\u001b[0m \u001b[32m0.0/67.3 kB\u001b[0m \u001b[31m?\u001b[0m eta \u001b[36m-:--:--\u001b[0m\r\u001b[2K     \u001b[90m━━━━━━━━━━━━━━━━━━━━━━━━━━━━━━━━━━━━━━━━\u001b[0m \u001b[32m67.3/67.3 kB\u001b[0m \u001b[31m5.0 MB/s\u001b[0m eta \u001b[36m0:00:00\u001b[0m\n",
            "\u001b[?25h  Installing build dependencies ... \u001b[?25l\u001b[?25hdone\n",
            "  Getting requirements to build wheel ... \u001b[?25l\u001b[?25hdone\n",
            "  Preparing metadata (pyproject.toml) ... \u001b[?25l\u001b[?25hdone\n",
            "\u001b[2K   \u001b[90m━━━━━━━━━━━━━━━━━━━━━━━━━━━━━━━━━━━━━━━━\u001b[0m \u001b[32m19.3/19.3 MB\u001b[0m \u001b[31m28.7 MB/s\u001b[0m eta \u001b[36m0:00:00\u001b[0m\n",
            "\u001b[2K   \u001b[90m━━━━━━━━━━━━━━━━━━━━━━━━━━━━━━━━━━━━━━━━\u001b[0m \u001b[32m284.2/284.2 kB\u001b[0m \u001b[31m18.2 MB/s\u001b[0m eta \u001b[36m0:00:00\u001b[0m\n",
            "\u001b[2K   \u001b[90m━━━━━━━━━━━━━━━━━━━━━━━━━━━━━━━━━━━━━━━━\u001b[0m \u001b[32m1.9/1.9 MB\u001b[0m \u001b[31m60.2 MB/s\u001b[0m eta \u001b[36m0:00:00\u001b[0m\n",
            "\u001b[2K   \u001b[90m━━━━━━━━━━━━━━━━━━━━━━━━━━━━━━━━━━━━━━━━\u001b[0m \u001b[32m101.6/101.6 kB\u001b[0m \u001b[31m7.1 MB/s\u001b[0m eta \u001b[36m0:00:00\u001b[0m\n",
            "\u001b[2K   \u001b[90m━━━━━━━━━━━━━━━━━━━━━━━━━━━━━━━━━━━━━━━━\u001b[0m \u001b[32m16.4/16.4 MB\u001b[0m \u001b[31m45.6 MB/s\u001b[0m eta \u001b[36m0:00:00\u001b[0m\n",
            "\u001b[2K   \u001b[90m━━━━━━━━━━━━━━━━━━━━━━━━━━━━━━━━━━━━━━━━\u001b[0m \u001b[32m65.8/65.8 kB\u001b[0m \u001b[31m4.1 MB/s\u001b[0m eta \u001b[36m0:00:00\u001b[0m\n",
            "\u001b[2K   \u001b[90m━━━━━━━━━━━━━━━━━━━━━━━━━━━━━━━━━━━━━━━━\u001b[0m \u001b[32m55.7/55.7 kB\u001b[0m \u001b[31m2.0 MB/s\u001b[0m eta \u001b[36m0:00:00\u001b[0m\n",
            "\u001b[2K   \u001b[90m━━━━━━━━━━━━━━━━━━━━━━━━━━━━━━━━━━━━━━━━\u001b[0m \u001b[32m118.5/118.5 kB\u001b[0m \u001b[31m8.1 MB/s\u001b[0m eta \u001b[36m0:00:00\u001b[0m\n",
            "\u001b[2K   \u001b[90m━━━━━━━━━━━━━━━━━━━━━━━━━━━━━━━━━━━━━━━━\u001b[0m \u001b[32m196.2/196.2 kB\u001b[0m \u001b[31m11.5 MB/s\u001b[0m eta \u001b[36m0:00:00\u001b[0m\n",
            "\u001b[2K   \u001b[90m━━━━━━━━━━━━━━━━━━━━━━━━━━━━━━━━━━━━━━━━\u001b[0m \u001b[32m105.4/105.4 kB\u001b[0m \u001b[31m5.8 MB/s\u001b[0m eta \u001b[36m0:00:00\u001b[0m\n",
            "\u001b[2K   \u001b[90m━━━━━━━━━━━━━━━━━━━━━━━━━━━━━━━━━━━━━━━━\u001b[0m \u001b[32m71.2/71.2 kB\u001b[0m \u001b[31m5.9 MB/s\u001b[0m eta \u001b[36m0:00:00\u001b[0m\n",
            "\u001b[2K   \u001b[90m━━━━━━━━━━━━━━━━━━━━━━━━━━━━━━━━━━━━━━━━\u001b[0m \u001b[32m459.8/459.8 kB\u001b[0m \u001b[31m19.8 MB/s\u001b[0m eta \u001b[36m0:00:00\u001b[0m\n",
            "\u001b[2K   \u001b[90m━━━━━━━━━━━━━━━━━━━━━━━━━━━━━━━━━━━━━━━━\u001b[0m \u001b[32m4.0/4.0 MB\u001b[0m \u001b[31m50.6 MB/s\u001b[0m eta \u001b[36m0:00:00\u001b[0m\n",
            "\u001b[2K   \u001b[90m━━━━━━━━━━━━━━━━━━━━━━━━━━━━━━━━━━━━━━━━\u001b[0m \u001b[32m453.1/453.1 kB\u001b[0m \u001b[31m21.2 MB/s\u001b[0m eta \u001b[36m0:00:00\u001b[0m\n",
            "\u001b[2K   \u001b[90m━━━━━━━━━━━━━━━━━━━━━━━━━━━━━━━━━━━━━━━━\u001b[0m \u001b[32m46.0/46.0 kB\u001b[0m \u001b[31m2.7 MB/s\u001b[0m eta \u001b[36m0:00:00\u001b[0m\n",
            "\u001b[2K   \u001b[90m━━━━━━━━━━━━━━━━━━━━━━━━━━━━━━━━━━━━━━━━\u001b[0m \u001b[32m86.8/86.8 kB\u001b[0m \u001b[31m6.9 MB/s\u001b[0m eta \u001b[36m0:00:00\u001b[0m\n",
            "\u001b[?25h  Building wheel for pypika (pyproject.toml) ... \u001b[?25l\u001b[?25hdone\n"
          ]
        }
      ],
      "source": [
        "!pip install chromadb --quiet\n"
      ]
    },
    {
      "cell_type": "code",
      "execution_count": null,
      "metadata": {
        "id": "l0tGzYpZoF0G"
      },
      "outputs": [],
      "source": [
        "import numpy as np\n",
        "import pandas as pd\n",
        "\n",
        "# Splitting de texto\n",
        "from langchain.text_splitter import RecursiveCharacterTextSplitter\n",
        "\n",
        "# BD Vectorial\n",
        "import chromadb"
      ]
    },
    {
      "cell_type": "markdown",
      "metadata": {
        "id": "kqLzTnHSmptY"
      },
      "source": [
        "Importar datos de texto"
      ]
    },
    {
      "cell_type": "code",
      "execution_count": null,
      "metadata": {
        "colab": {
          "base_uri": "https://localhost:8080/",
          "height": 223
        },
        "id": "4Qe22fh9ms0-",
        "outputId": "4621e0c4-1c58-4785-d101-9f12344db36c"
      },
      "outputs": [
        {
          "name": "stdout",
          "output_type": "stream",
          "text": [
            "(36, 3)\n"
          ]
        },
        {
          "data": {
            "application/vnd.google.colaboratory.intrinsic+json": {
              "summary": "{\n  \"name\": \"df_foros_bgg\",\n  \"rows\": 36,\n  \"fields\": [\n    {\n      \"column\": \"Category\",\n      \"properties\": {\n        \"dtype\": \"category\",\n        \"num_unique_values\": 4,\n        \"samples\": [\n          \"Rules\",\n          \"Variants\",\n          \"Reviews\"\n        ],\n        \"semantic_type\": \"\",\n        \"description\": \"\"\n      }\n    },\n    {\n      \"column\": \"Link to Post\",\n      \"properties\": {\n        \"dtype\": \"string\",\n        \"num_unique_values\": 36,\n        \"samples\": [\n          \"https://boardgamegeek.com/thread/2204846/more-forgiving-6-player-variant\",\n          \"https://boardgamegeek.com/thread/2172550/barrett-castle-too-powerful\",\n          \"https://boardgamegeek.com/thread/2632494/9-tiny-towns-cube-drafting-variants\"\n        ],\n        \"semantic_type\": \"\",\n        \"description\": \"\"\n      }\n    },\n    {\n      \"column\": \"Conversation\",\n      \"properties\": {\n        \"dtype\": \"string\",\n        \"num_unique_values\": 36,\n        \"samples\": [\n          \"Title: More forgiving 6 player variant\\nOriginal post: With the standard rules, in a 6 player game you only get to choose 1 cube out of every 6, which might not be to everyone's preference. If you want a little more control at the larger player counts then you could elect to use the Town Hall variant, but this variant provides another idea ...VariantThe game is played as normal (with each player nominating a resource type on their turn) with the alteration that you always ignore the nomination of the player sitting directly opposite you and instead choose any resource type.This means you get to choose 1 in every 3 cubes - as per a 3 player game or Town Hall variant - but still retain the player interaction.\\n\",\n          \"Title: Barrett Castle too powerful?\\nOriginal post: Is Barrett Castle too powerful? In our first game, it earned a player 17 points. The card itself has a bonus of 5 points if fed. Then, since it is worth 2 cottages, another 6 points since it was fed. This seems to be doubling-dipping. The player was smart to also have built 3 chapels, gaining 6 more points from this \\u201c2 cottage\\u201d equivalent.Are we misunderstanding the scoring for this monument card?\\n\",\n          \"Title: 9 Tiny Towns cube drafting variants\\nOriginal post: Hi Everyone. Someone on Reddit advised you might like my list of cube drafting variants using the cards!We really like Tiny Towns, but the cube drafting mechanic (either the base game or Town hall) can be hit or miss depending on the type of person you are and how tight/loose you like your game. You may prefer more direct interaction, or prefer a more solitaire experience too. My partner and I kept coming up with new variants on the cube selection mechanic every time we play. These are some of our favourites.They have only been tested at 2-player. Some will scale better than others.They are roughly ordered in simple \\u2013 experimental. There are also some variants within variants!1. Cartographers Variant \\u2013 (Solitaire) (scales to any player count) (smaller decision space)    \\u2022 Discard 5 cube cards.     \\u2022 Draw 2 cards face up to the table.     \\u2022 Everyone chooses one of the two cards to place. Repeat until deck empty.     \\u2022 Shuffle all cards back together, discard 5. Repeat. Small element of choice leading to drastically different towns. Cartographers Dice Variant 1 \\u2013 Similar to above, however you roll a dice first! If it\\u2019s 1-3 \\tthen you only draw 1 card for this turn \\u2013 if it\\u2019s 4-6, then you draw 2 cards to choose from. Cartographers Dice Variant 2 \\u2013 Same as above except \\u2013 1-2 draw one card, 3-4 draw 2 \\tcards, 5-6 draw 3 cards.2. The Small Market \\u2013 (2 player) (Indirect interaction)    \\u2022 Deal 3 cards face up to the middle of the table, with a draw pile to the side    \\u2022 Player 1 picks a card    \\u2022 Player 2 picks a card    \\u2022 Remaining card(s) are discarded    \\u2022 Instead of taking a card from the market, player may instead take the top card from the draw deck.    \\u2022 The market is STILL refreshed entirely each round, even if 2 or both players decide to take a card from the draw deck. 3. The Large Market \\u2013 (2 Player) \\u2013 (slightly more Indirect interaction)    \\u2022 Shuffle all 15 cards and deal 5 face up to the table    \\u2022 Starting with player 1, snake draft. 1-2-2-1    \\u2022 Discard remaining card    \\u2022 Deal 5 more cards    \\u2022 Starting with player 2 Snake draft 2-1-1-2 and discard remaining card    \\u2022 Deal 5 remaining cards.     \\u2022 Snake draft 1-2-2-1 again and discard remaining card    \\u2022 Shuffle all cards including discarded    \\u2022 Change first player. Repeat. Large market Variant \\u2013 (not sure about this one yet)     \\u2022 Similar to above, except discard 3 random cards at the start of the round    \\u2022 Only deal 4 face up to the table    \\u2022 Means the last person in a turn has to take the remaining card and doesn\\u2019t have two to choose from.4. The Biblios Variant \\u2013 (2 player) (interactive)    \\u2022 Shuffle cards and stack them    \\u2022 On your turn, draw 3 cube cards from the pile    \\u2022 Keep one     \\u2022 Give one to your opponent    \\u2022 Discard the third face up to a discard pile    \\u2022 Next person goes. Repeat. Reshuffle deck once empty Allows some element of choice and ability to mess with your opponent. Discard pile allows you to see what won\\u2019t come back around until the deck is re-shuffled. Slight Biblios Variant \\u2013 Same as above but:    \\u2022 Discard card face down in a discard pile    \\u2022 Opponent can choose to keep the card you gave them or swap for the (blind) discarded card.  Wild Biblios Variant \\u2013 Same as Biblios but:    \\u2022 Remove 5 cards each time you shuffle the deck. (So there are only 10)    \\u2022 When you discard, you discard face down to the top of the draw pile.\\tYour opponent will then get that card in their next turn, and may end up passing it back to \\tyou.5. The Faction \\u2013 (2 Player) (Asymmetric) (solitaire)    \\u2022 Shuffle all 5 different cube cards and deal 1 to each player (so each person has a different card)    \\u2022 This is your FACTION    \\u2022 Keep this card, so you and the other player can see it. (This card is not in use for the rest of the game, and is just a reminder of your faction colour.)    \\u2022 Shuffle the remaining 13 cards and discard 3 randomly (You will repeat this each time the draw deck is empty)    \\u2022 Draw cards one at a time, face-up to the table. There are three possible turn-outs:1. If the card is YOUR faction colour \\u2013 Use as a wild and choose any cube to place (note: there are only 2 cards of your faction in play as you have one representing your faction.)2. If it is your OPPONENTS faction colour \\u2013 You MUST place this colour without exception.3. Any other colour cube is drawn \\u2013 You can either chose to play the cube colour drawn, OR place your faction colour instead.This means you will be very strong in one particular colour, and your opponent strong in another. How you use your \\u2018wild\\u2019 ability can be very important.6. The Negotiator \\u2013 (2 Player) (Highly interactive)    \\u2022 Shuffle deck and remove 3 cards    \\u2022 Create two stacks of 6 cards, one for each player    \\u2022 Turn over the top card of your personal deck face-up. You have two options:1. Place the cube of the card drawn OR2. Request to swap your card with your opponents card \\u2013 If you BOTH agree, then swap cards. If your decline, then you must place your original cube. If your opponent requests to swap then you can also decline or accept.This one was really fun! Do you refuse to trade that card you know they really want? If you do, will that mean they won\\u2019t trade with you when YOU need their card. Do you risk not trading in the hope that the cube you want is in your personal draw pile? The Negotiator \\u2013 The alliance variant \\u2013 (3 Player only) (VERY interactive)    \\u2022 Create three random stacks of 5 cards. One for each player    \\u2022 Each player turns over the top card of their stack at the same time    \\u2022 You may place your cube,    \\u2022 OR    \\u2022 request to trade with either one of your opponents.     \\u2022 You can only trade once per turn so that means only two of the three people will be able to swap cards.     \\u2022 That means if you draw an orange that both other players want, you can choose who you trade with. Will the person you didn\\u2019t choose turn against you in the future?7. The 'Next up' Variant \\u2013 (Any player count) (Solitaire)    \\u2022 Shuffle deck and discard 5 cards (will be re-shuffled in when draw pile empty, and another 5    \\u2022  discarded)    \\u2022 Create a draw pile    \\u2022 Turn over the top card and place in the centre of the table. This is the current card.    \\u2022 Turn over 2 more cards face up next to each other, to the right of draw pile    \\u2022 These are the \\u2018upcoming\\u2019 cards    \\u2022 Everyone places the current card cube colour.    \\u2022 That card is moved to a discard pile    \\u2022 The right most card is moved to the centre    \\u2022 The 2nd face up card is moved along to replace it and a new card drawn from the deck to replace that oneBasically, you will always know what the next two cube cards are going to be.Whilst you have no ability to change the cards or select a colour, the knowledge of what\\u2019s coming can let you plan out ahead.You and your opponents get EXACTLY the same cards  Gentleman Queue variant\\tRemoving cards from the deck can be risky, as there\\u2019s a chance certain colours will never show up, so instead:    \\u2022 Same as above, but don\\u2019t remove any cards.     \\u2022 Cycle the entire deck, then reshuffle.8. The Tetris hold \\u2013 (2 Player, may work with more) (Solitaire)    \\u2022 Shuffle 5 different cube cards and deal 1 to each player (so each person has a different card)     \\u2022 Shuffle the remaining cards back into the deck    \\u2022 This is your starting cube. Place it on the board    \\u2022 KEEP the card in your \\u2018reserve\\u2019    \\u2022 On your turn, deal one card face up to you and one to your opponent    \\u2022 You have two options:    \\u2022 1. Place the cube you were just dealt    \\u2022 2. Swap the new card with your one in reserve and place that instead. The new card then becomes your reserve for future turns.\\tTherefore, you will always have a reserve card to choose from.Note: This does have the potential to unbalance, as each person getting dealt separately COULD lead to you never being dealt a particular colour (however is highly unlikely)9. The Swapper \\u2013 (2 player)  (Interactive) (most complicated)This is quite hard to explain, but plays out quite simply and is really fun! Really worth the effort to learn this one.SETUP    \\u2022 Deal 5 cards to each player. This is your hand. You are free to hold them like a deck of cards.    \\u2022 Place the remaining 5 cards in a face-up market somewhere in front of you both, leaving a space in front. ON YOUR TURN    \\u2022 This variant is split into 2 phases:     \\u2022 Phase 1: The card selection phase \\u2013 In this phase you have two options but can ONLY CHOOSE ONE.  Option 1 \\u2013 Place a card \\tYou will select one card from your hand and place it face-up in the middle of the table.      (Your opponent will do the same, so there are two cards in the middle of the table.)    \\u2022 Option 2 \\u2013 Swap a card with one in the Market \\u2013 Exchange any card in your hand for one in the market (This means you DO NOT PLACE A CARD THIS TURN, but you do get to place cube still in phase 2)NOTE: On the first turn of a round you can not access the market. There NEEDS to always be two cards to choose from. Phase 2: Choosing your cube      You can now pick a cube to place from the card either you OR your opponent played.    \\u2022 Both players can pick the same, or different cards.Turn Ends - These cards are NOT discarded and stay where they are on the table.On all future turns in this round, when you choose to play a card you will play it ON TOP of EITHER of the previous turn\\u2019s cards. It doesn\\u2019t have to be the card you played. However, a card can not be placed over a card FROM THIS TURN (example: You play a card over card 2, if your opponent chooses to play a card this turn instead of using the market, they must play it over card 1.Example turn:On turn two, there will be two cards on the table already from turn 1. Lets say card (1) is BLUE and card (2) is BROWN.Player 1 chooses to play a card: They place an orange card ON TOP of the BROWN (2) card.Player 2 decides they really need a yellow wheat from the market so they choose to swap a grey in their hand for the yellow in the market.Phase 2 now beginsThe top two visible cards are now (1) BLUE (still blue from the first round as no one placed a card over it) and 2: ORANGE (as the orange was placed over the Brown in this round)Players then choose to place either a Blue or orange cube.Play then repeatsThe first player to play all cards in their hand can pick any card from the market to play until the second person has used all cards in their hand.At this point you collect all 15 cards, reshuffle and repeat set-upIt\\u2019s much simpler than it sounds, I promise!\\n\"\n        ],\n        \"semantic_type\": \"\",\n        \"description\": \"\"\n      }\n    }\n  ]\n}",
              "type": "dataframe",
              "variable_name": "df_foros_bgg"
            },
            "text/html": [
              "\n",
              "  <div id=\"df-11f53188-c613-420c-80af-f2e28363a59b\" class=\"colab-df-container\">\n",
              "    <div>\n",
              "<style scoped>\n",
              "    .dataframe tbody tr th:only-of-type {\n",
              "        vertical-align: middle;\n",
              "    }\n",
              "\n",
              "    .dataframe tbody tr th {\n",
              "        vertical-align: top;\n",
              "    }\n",
              "\n",
              "    .dataframe thead th {\n",
              "        text-align: right;\n",
              "    }\n",
              "</style>\n",
              "<table border=\"1\" class=\"dataframe\">\n",
              "  <thead>\n",
              "    <tr style=\"text-align: right;\">\n",
              "      <th></th>\n",
              "      <th>Category</th>\n",
              "      <th>Link to Post</th>\n",
              "      <th>Conversation</th>\n",
              "    </tr>\n",
              "  </thead>\n",
              "  <tbody>\n",
              "    <tr>\n",
              "      <th>0</th>\n",
              "      <td>Reviews</td>\n",
              "      <td>https://boardgamegeek.com/thread/2660465/revie...</td>\n",
              "      <td>Title: Review: Still fun after ten plays? My p...</td>\n",
              "    </tr>\n",
              "    <tr>\n",
              "      <th>1</th>\n",
              "      <td>Reviews</td>\n",
              "      <td>https://boardgamegeek.com/thread/2201438/tiny-...</td>\n",
              "      <td>Title: Tiny review of Tiny Towns\\nOriginal pos...</td>\n",
              "    </tr>\n",
              "    <tr>\n",
              "      <th>2</th>\n",
              "      <td>Reviews</td>\n",
              "      <td>https://boardgamegeek.com/thread/2258475/teens...</td>\n",
              "      <td>Title: Teensy Towns (a Space-Biff! review)\\nOr...</td>\n",
              "    </tr>\n",
              "    <tr>\n",
              "      <th>3</th>\n",
              "      <td>Reviews</td>\n",
              "      <td>https://boardgamegeek.com/thread/2208048/clear...</td>\n",
              "      <td>Title: Clear Eyes, Tiny Towns, Can't Lose: A R...</td>\n",
              "    </tr>\n",
              "    <tr>\n",
              "      <th>4</th>\n",
              "      <td>Reviews</td>\n",
              "      <td>https://boardgamegeek.com/thread/2291815/simpl...</td>\n",
              "      <td>Title: Simple, Thinky and Brutal\\nOriginal pos...</td>\n",
              "    </tr>\n",
              "  </tbody>\n",
              "</table>\n",
              "</div>\n",
              "    <div class=\"colab-df-buttons\">\n",
              "\n",
              "  <div class=\"colab-df-container\">\n",
              "    <button class=\"colab-df-convert\" onclick=\"convertToInteractive('df-11f53188-c613-420c-80af-f2e28363a59b')\"\n",
              "            title=\"Convert this dataframe to an interactive table.\"\n",
              "            style=\"display:none;\">\n",
              "\n",
              "  <svg xmlns=\"http://www.w3.org/2000/svg\" height=\"24px\" viewBox=\"0 -960 960 960\">\n",
              "    <path d=\"M120-120v-720h720v720H120Zm60-500h600v-160H180v160Zm220 220h160v-160H400v160Zm0 220h160v-160H400v160ZM180-400h160v-160H180v160Zm440 0h160v-160H620v160ZM180-180h160v-160H180v160Zm440 0h160v-160H620v160Z\"/>\n",
              "  </svg>\n",
              "    </button>\n",
              "\n",
              "  <style>\n",
              "    .colab-df-container {\n",
              "      display:flex;\n",
              "      gap: 12px;\n",
              "    }\n",
              "\n",
              "    .colab-df-convert {\n",
              "      background-color: #E8F0FE;\n",
              "      border: none;\n",
              "      border-radius: 50%;\n",
              "      cursor: pointer;\n",
              "      display: none;\n",
              "      fill: #1967D2;\n",
              "      height: 32px;\n",
              "      padding: 0 0 0 0;\n",
              "      width: 32px;\n",
              "    }\n",
              "\n",
              "    .colab-df-convert:hover {\n",
              "      background-color: #E2EBFA;\n",
              "      box-shadow: 0px 1px 2px rgba(60, 64, 67, 0.3), 0px 1px 3px 1px rgba(60, 64, 67, 0.15);\n",
              "      fill: #174EA6;\n",
              "    }\n",
              "\n",
              "    .colab-df-buttons div {\n",
              "      margin-bottom: 4px;\n",
              "    }\n",
              "\n",
              "    [theme=dark] .colab-df-convert {\n",
              "      background-color: #3B4455;\n",
              "      fill: #D2E3FC;\n",
              "    }\n",
              "\n",
              "    [theme=dark] .colab-df-convert:hover {\n",
              "      background-color: #434B5C;\n",
              "      box-shadow: 0px 1px 3px 1px rgba(0, 0, 0, 0.15);\n",
              "      filter: drop-shadow(0px 1px 2px rgba(0, 0, 0, 0.3));\n",
              "      fill: #FFFFFF;\n",
              "    }\n",
              "  </style>\n",
              "\n",
              "    <script>\n",
              "      const buttonEl =\n",
              "        document.querySelector('#df-11f53188-c613-420c-80af-f2e28363a59b button.colab-df-convert');\n",
              "      buttonEl.style.display =\n",
              "        google.colab.kernel.accessAllowed ? 'block' : 'none';\n",
              "\n",
              "      async function convertToInteractive(key) {\n",
              "        const element = document.querySelector('#df-11f53188-c613-420c-80af-f2e28363a59b');\n",
              "        const dataTable =\n",
              "          await google.colab.kernel.invokeFunction('convertToInteractive',\n",
              "                                                    [key], {});\n",
              "        if (!dataTable) return;\n",
              "\n",
              "        const docLinkHtml = 'Like what you see? Visit the ' +\n",
              "          '<a target=\"_blank\" href=https://colab.research.google.com/notebooks/data_table.ipynb>data table notebook</a>'\n",
              "          + ' to learn more about interactive tables.';\n",
              "        element.innerHTML = '';\n",
              "        dataTable['output_type'] = 'display_data';\n",
              "        await google.colab.output.renderOutput(dataTable, element);\n",
              "        const docLink = document.createElement('div');\n",
              "        docLink.innerHTML = docLinkHtml;\n",
              "        element.appendChild(docLink);\n",
              "      }\n",
              "    </script>\n",
              "  </div>\n",
              "\n",
              "\n",
              "    <div id=\"df-b8e20fbd-1ce7-4728-b2ee-3a4d935e524d\">\n",
              "      <button class=\"colab-df-quickchart\" onclick=\"quickchart('df-b8e20fbd-1ce7-4728-b2ee-3a4d935e524d')\"\n",
              "                title=\"Suggest charts\"\n",
              "                style=\"display:none;\">\n",
              "\n",
              "<svg xmlns=\"http://www.w3.org/2000/svg\" height=\"24px\"viewBox=\"0 0 24 24\"\n",
              "     width=\"24px\">\n",
              "    <g>\n",
              "        <path d=\"M19 3H5c-1.1 0-2 .9-2 2v14c0 1.1.9 2 2 2h14c1.1 0 2-.9 2-2V5c0-1.1-.9-2-2-2zM9 17H7v-7h2v7zm4 0h-2V7h2v10zm4 0h-2v-4h2v4z\"/>\n",
              "    </g>\n",
              "</svg>\n",
              "      </button>\n",
              "\n",
              "<style>\n",
              "  .colab-df-quickchart {\n",
              "      --bg-color: #E8F0FE;\n",
              "      --fill-color: #1967D2;\n",
              "      --hover-bg-color: #E2EBFA;\n",
              "      --hover-fill-color: #174EA6;\n",
              "      --disabled-fill-color: #AAA;\n",
              "      --disabled-bg-color: #DDD;\n",
              "  }\n",
              "\n",
              "  [theme=dark] .colab-df-quickchart {\n",
              "      --bg-color: #3B4455;\n",
              "      --fill-color: #D2E3FC;\n",
              "      --hover-bg-color: #434B5C;\n",
              "      --hover-fill-color: #FFFFFF;\n",
              "      --disabled-bg-color: #3B4455;\n",
              "      --disabled-fill-color: #666;\n",
              "  }\n",
              "\n",
              "  .colab-df-quickchart {\n",
              "    background-color: var(--bg-color);\n",
              "    border: none;\n",
              "    border-radius: 50%;\n",
              "    cursor: pointer;\n",
              "    display: none;\n",
              "    fill: var(--fill-color);\n",
              "    height: 32px;\n",
              "    padding: 0;\n",
              "    width: 32px;\n",
              "  }\n",
              "\n",
              "  .colab-df-quickchart:hover {\n",
              "    background-color: var(--hover-bg-color);\n",
              "    box-shadow: 0 1px 2px rgba(60, 64, 67, 0.3), 0 1px 3px 1px rgba(60, 64, 67, 0.15);\n",
              "    fill: var(--button-hover-fill-color);\n",
              "  }\n",
              "\n",
              "  .colab-df-quickchart-complete:disabled,\n",
              "  .colab-df-quickchart-complete:disabled:hover {\n",
              "    background-color: var(--disabled-bg-color);\n",
              "    fill: var(--disabled-fill-color);\n",
              "    box-shadow: none;\n",
              "  }\n",
              "\n",
              "  .colab-df-spinner {\n",
              "    border: 2px solid var(--fill-color);\n",
              "    border-color: transparent;\n",
              "    border-bottom-color: var(--fill-color);\n",
              "    animation:\n",
              "      spin 1s steps(1) infinite;\n",
              "  }\n",
              "\n",
              "  @keyframes spin {\n",
              "    0% {\n",
              "      border-color: transparent;\n",
              "      border-bottom-color: var(--fill-color);\n",
              "      border-left-color: var(--fill-color);\n",
              "    }\n",
              "    20% {\n",
              "      border-color: transparent;\n",
              "      border-left-color: var(--fill-color);\n",
              "      border-top-color: var(--fill-color);\n",
              "    }\n",
              "    30% {\n",
              "      border-color: transparent;\n",
              "      border-left-color: var(--fill-color);\n",
              "      border-top-color: var(--fill-color);\n",
              "      border-right-color: var(--fill-color);\n",
              "    }\n",
              "    40% {\n",
              "      border-color: transparent;\n",
              "      border-right-color: var(--fill-color);\n",
              "      border-top-color: var(--fill-color);\n",
              "    }\n",
              "    60% {\n",
              "      border-color: transparent;\n",
              "      border-right-color: var(--fill-color);\n",
              "    }\n",
              "    80% {\n",
              "      border-color: transparent;\n",
              "      border-right-color: var(--fill-color);\n",
              "      border-bottom-color: var(--fill-color);\n",
              "    }\n",
              "    90% {\n",
              "      border-color: transparent;\n",
              "      border-bottom-color: var(--fill-color);\n",
              "    }\n",
              "  }\n",
              "</style>\n",
              "\n",
              "      <script>\n",
              "        async function quickchart(key) {\n",
              "          const quickchartButtonEl =\n",
              "            document.querySelector('#' + key + ' button');\n",
              "          quickchartButtonEl.disabled = true;  // To prevent multiple clicks.\n",
              "          quickchartButtonEl.classList.add('colab-df-spinner');\n",
              "          try {\n",
              "            const charts = await google.colab.kernel.invokeFunction(\n",
              "                'suggestCharts', [key], {});\n",
              "          } catch (error) {\n",
              "            console.error('Error during call to suggestCharts:', error);\n",
              "          }\n",
              "          quickchartButtonEl.classList.remove('colab-df-spinner');\n",
              "          quickchartButtonEl.classList.add('colab-df-quickchart-complete');\n",
              "        }\n",
              "        (() => {\n",
              "          let quickchartButtonEl =\n",
              "            document.querySelector('#df-b8e20fbd-1ce7-4728-b2ee-3a4d935e524d button');\n",
              "          quickchartButtonEl.style.display =\n",
              "            google.colab.kernel.accessAllowed ? 'block' : 'none';\n",
              "        })();\n",
              "      </script>\n",
              "    </div>\n",
              "\n",
              "    </div>\n",
              "  </div>\n"
            ],
            "text/plain": [
              "  Category                                       Link to Post  \\\n",
              "0  Reviews  https://boardgamegeek.com/thread/2660465/revie...   \n",
              "1  Reviews  https://boardgamegeek.com/thread/2201438/tiny-...   \n",
              "2  Reviews  https://boardgamegeek.com/thread/2258475/teens...   \n",
              "3  Reviews  https://boardgamegeek.com/thread/2208048/clear...   \n",
              "4  Reviews  https://boardgamegeek.com/thread/2291815/simpl...   \n",
              "\n",
              "                                        Conversation  \n",
              "0  Title: Review: Still fun after ten plays? My p...  \n",
              "1  Title: Tiny review of Tiny Towns\\nOriginal pos...  \n",
              "2  Title: Teensy Towns (a Space-Biff! review)\\nOr...  \n",
              "3  Title: Clear Eyes, Tiny Towns, Can't Lose: A R...  \n",
              "4  Title: Simple, Thinky and Brutal\\nOriginal pos...  "
            ]
          },
          "execution_count": 14,
          "metadata": {},
          "output_type": "execute_result"
        }
      ],
      "source": [
        "df_foros_bgg = pd.read_csv('datos/informacion/df_foros_bgg.csv')\n",
        "print(df_foros_bgg.shape)\n",
        "df_foros_bgg.head()"
      ]
    },
    {
      "cell_type": "code",
      "execution_count": null,
      "metadata": {
        "colab": {
          "base_uri": "https://localhost:8080/"
        },
        "id": "SlOCpbAFnIZ7",
        "outputId": "bfeecae3-ff54-4687-9af8-92a07a008e63"
      },
      "outputs": [
        {
          "data": {
            "text/plain": [
              "43"
            ]
          },
          "execution_count": 15,
          "metadata": {},
          "output_type": "execute_result"
        }
      ],
      "source": [
        "textos = df_foros_bgg['Conversation'].tolist()\n",
        "\n",
        "for roota, dirs, files in os.walk('datos/informacion'):\n",
        "    for file in files:\n",
        "        if file.endswith('.txt'):\n",
        "            with open(os.path.join(roota, file), 'r') as f:\n",
        "                textos.append(f.read())\n",
        "len(textos)"
      ]
    },
    {
      "cell_type": "markdown",
      "metadata": {
        "id": "Np4yWxurmIl6"
      },
      "source": [
        "Text splitting"
      ]
    },
    {
      "cell_type": "code",
      "execution_count": null,
      "metadata": {
        "colab": {
          "base_uri": "https://localhost:8080/"
        },
        "id": "78uYJ49ujSKZ",
        "outputId": "304c34b0-1917-4ec6-d8d5-e1301a196269"
      },
      "outputs": [
        {
          "data": {
            "text/plain": [
              "(204,\n",
              " \"Title: Review: Still fun after ten plays? My pros and cons\\nOriginal post: Even though long extensive reviews seem to be the most popular reviews on BGG, I myself just don't have the time or the patience to read those.I prefer quick overviews where I can get some insights into why this game may or may not be attractive to me.My reviews are targeted at a similar audience, and just consist of my pros and cons coming from:1) First impressions (before playing my first game)2) Impressions after the first game3) Current feelings (after at least 10 plays)First impressions:+ There was quite a lot of hype around this game when it was released, which drew my attention (the BGG crowd doesn’t often overhype a game that I end up hating)+ I like the box art and the components very much+ This is a bingo-style game, in which everybody places a cube of the same colour each turn, but make their own choices on the patterns in which they are placed, which are used to place buildings on the 4x4 grid\")"
            ]
          },
          "execution_count": 16,
          "metadata": {},
          "output_type": "execute_result"
        }
      ],
      "source": [
        "chunk_size = 1024\n",
        "chunk_overlap = 128\n",
        "text_splitter = RecursiveCharacterTextSplitter(\n",
        "        chunk_size=chunk_size,\n",
        "        chunk_overlap=chunk_overlap,\n",
        "        separators=[\".\", \"?\", \"!\",\"\\n\"]\n",
        "    )\n",
        "\n",
        "textos_split = []\n",
        "for texto in textos:\n",
        "    textos_split.append(text_splitter.split_text(texto))\n",
        "\n",
        "textos_split = [item for sublist in textos_split for item in sublist]\n",
        "len(textos_split), textos_split[0]"
      ]
    },
    {
      "cell_type": "markdown",
      "metadata": {
        "id": "tc_mDinjml_-"
      },
      "source": [
        "Embedding de oraciones"
      ]
    },
    {
      "cell_type": "code",
      "execution_count": null,
      "metadata": {
        "id": "y6GTSNk_PRHJ"
      },
      "outputs": [],
      "source": [
        "class BDVectorial():\n",
        "    def __init__(self, tokenizer, embedder, sentences):\n",
        "        self._model_name = model_name\n",
        "        self._tokenizer = tokenizer\n",
        "        self._embedder = embedder\n",
        "\n",
        "        self._sentences = sentences\n",
        "        self._embedded_sentences = self._embed_sentences(self._sentences)\n",
        "\n",
        "        self._chroma_client = chromadb.PersistentClient(path=\"./BD_vectorial\")\n",
        "        self._collection = self._chroma_client.get_or_create_collection(name=\"sentence_embeddings\")\n",
        "        self._collection.add(\n",
        "            documents=self._sentences,\n",
        "            embeddings=self._embedded_sentences.tolist(),\n",
        "            ids=[f\"id_{i}\" for i in range(len(self._embedded_sentences))]\n",
        "        )\n",
        "\n",
        "    def _embed_sentences(self, sentences):\n",
        "        inputs = self._tokenizer(sentences, padding=True, truncation=True, return_tensors=\"pt\")\n",
        "        with torch.no_grad():\n",
        "            model_output = self._embedder(**inputs)\n",
        "        embeddings = model_output.last_hidden_state.mean(dim=1)  # Mean pooling\n",
        "        embeddings = torch.nn.functional.normalize(embeddings, p=2, dim=1)  # L2 normalize\n",
        "        return embeddings.cpu().numpy()\n",
        "\n",
        "    def buscar(self, texto, n_resultados=5):\n",
        "        texto_embed = self._embed_sentences([texto])\n",
        "        results = self._collection.query(\n",
        "            query_embeddings=texto_embed.tolist(),\n",
        "            n_results=n_resultados\n",
        "        )\n",
        "        return results['documents'][0]"
      ]
    },
    {
      "cell_type": "code",
      "execution_count": null,
      "metadata": {
        "colab": {
          "base_uri": "https://localhost:8080/"
        },
        "id": "KSEu4Tb7Q9cI",
        "outputId": "554dc786-2ff4-42ef-a938-d1c88af5aaaa"
      },
      "outputs": [
        {
          "data": {
            "text/plain": [
              "['quieres un juego donde todos los jugadores juegan a la vez con muchas decisiones y un montón de edificios monísimos hoy te traemos Tiny towns en 90 segundos en Tiny towns Tendremos que construir nuestras pequeñas ciudades colocando primero los recursos y después utilizándolos para levantar edificios en cada turno un jugador se convertirá en el maestro constructor podrá elegir Qué recursos recibirán todos los jugadores y cada uno decidiremos en cuál de las 16 casillas de nuestro tablero lo queremos colocar al hacerlo el objetivo será formar patrones que coincidan con los necesarios para construir un edificio concreto cuando un patrón esté completo podremos retirar los recursos que Lo componen Y colocar el edificio en una de las casillas donde estos se encontraban cada edificio nos dará unas habilidades o formas de puntuar diferentes por ejemplo algunos puntos harán dependiendo de las cosas que tengan cerca otros de acuerdo a lo que hay en su fila columna otros servirán para intercambiar unos recursos por otros en cada partida jugaremos con una combinación diferente de edificios y hay un montón de hecho cada jugador tendrá un edificio especial su monumento con su propio patrón de recursos y una habilidad diferente a la del resto y ellos eran los únicos que podrán construirlo conforme vayamos colocando los recursos y edificios poco a poco se nos irá acabando el espacio y llegará un momento en el que o bien no podremos construir más o bien no más recursos y será Entonces cuando la partida terminará para nosotros y cuando todos los jugadores hayan terminado contaremos puntos y habrá un ganador estás preparado para construir tu ciudad pequeñito pequeñito',\n",
              " '.\\nEn estos juegos suele aparecer como segunda mecánica principal el draft, añadiendo un pequeño punto de interacción al asunto (si alguien escoge algo, ese algo ya no está disponible para los demás). Sin embargo, y como gran elemento diferenciador, Tiny Towns no recurre a un suministro finito donde escoger, sino que abre el abanico y deja a los jugadores elegir entre una serie de opciones la que le parece más interesante.\\nDetalle Ciudad\\nPero, y ahí es donde está la gracia, esta decisión afectará a todos, dando pie a un juego psicológico muy interesante gracias a la tercera pata del banco, los edificios y sus cartas. Así, cada vez que un determinado jugador escoja un recurso, miraremos rápidamente el conjunto de siete cartas con las que se ha configurado la partida y podremos intentar deducir a por qué edificio está yendo un determinado jugador.\\nPor un lado, para no regalarle progresos al escoger en nuestro turno recursos que requiera el patrón que está siguiendo',\n",
              " '.\\nUtilizaré como ejemplo al gran Race for the Galaxy (aquí su tochorreseña), probablemente el mejor juego de desarrollo de cartas que tiene como concepto diferencial la selección de acciones que da pie a este mismo juego psicológico. Yo quiero hacer varias acciones, pero solo puedo escoger una. Tengo que intentar prever la que van a escoger mis rivales para no «perder» mi turno y poder activar aquella que ellos no vayan a seleccionar. Es la misma idea, aunque, obviamente, con mucha menos parafernalia.\\nDetalle Carta\\nEs conveniente mencionar otro gran referente como es Kingdom Builder (aquí su tochorreseña). De nuevo, no porque la mecánica principal tenga mucho en común con el juego (aunque en ambos nos dedicaremos a colocar piezas de madera en casillas de un tablero), sino por la visión a largo plazo. Al comienzo de la partida se van a configurar siete cartas en el centro de la mesa que van a determinar cómo funcionan los distintos edificios',\n",
              " '.\\nPor un lado, para no regalarle progresos al escoger en nuestro turno recursos que requiera el patrón que está siguiendo. Y, obviamente, por otro, para intentar aprovecharnos de esos recursos que el rival va a escoger para poder completar el edificio que tiene en mente, ya sea para evitar un bloqueo al tener que colocar un recurso inesperado, o para utilizarlo en el edificio que estemos desarrollando nosotros.\\nEs un concepto sutil, pero muy potente, ya que permite a los jugadores abordar el diseño con distinto grado de profundidad. Los jugadores ocasionales seguramente no presten atención a estos detalles y se centrarán en su tablero, lidiando como puedan con lo que les va llegando (en más de una ocasión les vendrá bien y lo celebrarán). Pero, como he dicho, podemos estar con mil ojos intentando prever la cadena de recursos que nos va a llegar para evitar callejones sin salida y sacar el máximo partido posible',\n",
              " '.\\nNos hemos convertido en alcaldes de una pequeña ciudad en la que las criaturas viven en paz, con el único objetivo de prosperar y llevar a su urbe un paso más allá para envidia de los municipios cercanos. Dispondremos de los planos de diversos tipos de edificios que podremos erigir para conseguirlo, aunque no todo dependerá de nuestras decisiones, sino que nos veremos influenciado por los deseos de los rivales.\\nDetalle Cartas\\nLa mecánica básica del juego será una construcción de patrones sobre una cuadricula de cuatro filas y cuatro columnas. En cada turno, el jugador activo (llamado maestro constructor) escogerá uno de los cinco tipos de recursos disponibles en el juego, a saber, madera, piedra, ladrillo, cristal y trigo, representados mediante cubos de colores. La gracia está en que no solo el jugador activo colocará un cubo del tipo escogido, sino que también tendrán que hacerlo el resto de jugadores']"
            ]
          },
          "execution_count": 18,
          "metadata": {},
          "output_type": "execute_result"
        }
      ],
      "source": [
        "bd_vectorial = BDVectorial(tokenizer, embedder, textos_split)\n",
        "query_prueba = \"Cómo ganar en este juego?\"\n",
        "bd_vectorial.buscar(query_prueba)"
      ]
    },
    {
      "cell_type": "markdown",
      "metadata": {
        "id": "qLX7pH6pyb0T"
      },
      "source": [
        "## BD Tabular de Estadísticas\n",
        "\n",
        "Con queries construidas por el modelo generativo de Gemini 2.5."
      ]
    },
    {
      "cell_type": "code",
      "execution_count": null,
      "metadata": {
        "colab": {
          "base_uri": "https://localhost:8080/",
          "height": 958
        },
        "id": "2I-s-bcCyf7y",
        "outputId": "23abe132-1648-4cf9-c34d-84f846b78be0"
      },
      "outputs": [
        {
          "data": {
            "application/vnd.google.colaboratory.intrinsic+json": {
              "summary": "{\n  \"name\": \"df_estadisticas\",\n  \"rows\": 29,\n  \"fields\": [\n    {\n      \"column\": \"Title\",\n      \"properties\": {\n        \"dtype\": \"string\",\n        \"num_unique_values\": 29,\n        \"samples\": [\n          \"Price on Gamers Guild AZ\",\n          \"Number of expansions\",\n          \"Want In Trade\"\n        ],\n        \"semantic_type\": \"\",\n        \"description\": \"\"\n      }\n    },\n    {\n      \"column\": \"Value\",\n      \"properties\": {\n        \"dtype\": \"string\",\n        \"num_unique_values\": 28,\n        \"samples\": [\n          \"34,184\",\n          \"from C$56.99\",\n          \"96\"\n        ],\n        \"semantic_type\": \"\",\n        \"description\": \"\"\n      }\n    }\n  ]\n}",
              "type": "dataframe",
              "variable_name": "df_estadisticas"
            },
            "text/html": [
              "\n",
              "  <div id=\"df-d5c33ea4-61f5-4b7e-801b-5195f0051f4c\" class=\"colab-df-container\">\n",
              "    <div>\n",
              "<style scoped>\n",
              "    .dataframe tbody tr th:only-of-type {\n",
              "        vertical-align: middle;\n",
              "    }\n",
              "\n",
              "    .dataframe tbody tr th {\n",
              "        vertical-align: top;\n",
              "    }\n",
              "\n",
              "    .dataframe thead th {\n",
              "        text-align: right;\n",
              "    }\n",
              "</style>\n",
              "<table border=\"1\" class=\"dataframe\">\n",
              "  <thead>\n",
              "    <tr style=\"text-align: right;\">\n",
              "      <th></th>\n",
              "      <th>Title</th>\n",
              "      <th>Value</th>\n",
              "    </tr>\n",
              "  </thead>\n",
              "  <tbody>\n",
              "    <tr>\n",
              "      <th>0</th>\n",
              "      <td>Avg. Rating</td>\n",
              "      <td>7.211</td>\n",
              "    </tr>\n",
              "    <tr>\n",
              "      <th>1</th>\n",
              "      <td>No. of Ratings</td>\n",
              "      <td>20,744</td>\n",
              "    </tr>\n",
              "    <tr>\n",
              "      <th>2</th>\n",
              "      <td>Difficulty according to the community</td>\n",
              "      <td>2.06 / 5</td>\n",
              "    </tr>\n",
              "    <tr>\n",
              "      <th>3</th>\n",
              "      <td>Comments</td>\n",
              "      <td>3,037</td>\n",
              "    </tr>\n",
              "    <tr>\n",
              "      <th>4</th>\n",
              "      <td>Fans</td>\n",
              "      <td>1,018</td>\n",
              "    </tr>\n",
              "    <tr>\n",
              "      <th>5</th>\n",
              "      <td>Overall Rank</td>\n",
              "      <td>462</td>\n",
              "    </tr>\n",
              "    <tr>\n",
              "      <th>6</th>\n",
              "      <td>Family Rank</td>\n",
              "      <td>121</td>\n",
              "    </tr>\n",
              "    <tr>\n",
              "      <th>7</th>\n",
              "      <td>All Time Plays</td>\n",
              "      <td>96,506</td>\n",
              "    </tr>\n",
              "    <tr>\n",
              "      <th>8</th>\n",
              "      <td>This Month</td>\n",
              "      <td>96</td>\n",
              "    </tr>\n",
              "    <tr>\n",
              "      <th>9</th>\n",
              "      <td>Own</td>\n",
              "      <td>34,184</td>\n",
              "    </tr>\n",
              "    <tr>\n",
              "      <th>10</th>\n",
              "      <td>Prev. Owned</td>\n",
              "      <td>4,245</td>\n",
              "    </tr>\n",
              "    <tr>\n",
              "      <th>11</th>\n",
              "      <td>For Trade</td>\n",
              "      <td>669</td>\n",
              "    </tr>\n",
              "    <tr>\n",
              "      <th>12</th>\n",
              "      <td>Want In Trade</td>\n",
              "      <td>498</td>\n",
              "    </tr>\n",
              "    <tr>\n",
              "      <th>13</th>\n",
              "      <td>Wishlist</td>\n",
              "      <td>5,645</td>\n",
              "    </tr>\n",
              "    <tr>\n",
              "      <th>14</th>\n",
              "      <td>Has Parts</td>\n",
              "      <td>18</td>\n",
              "    </tr>\n",
              "    <tr>\n",
              "      <th>15</th>\n",
              "      <td>Want Parts</td>\n",
              "      <td>5</td>\n",
              "    </tr>\n",
              "    <tr>\n",
              "      <th>16</th>\n",
              "      <td>Number of expansions</td>\n",
              "      <td>8</td>\n",
              "    </tr>\n",
              "    <tr>\n",
              "      <th>17</th>\n",
              "      <td>Official number of players</td>\n",
              "      <td>1–6</td>\n",
              "    </tr>\n",
              "    <tr>\n",
              "      <th>18</th>\n",
              "      <td>Recommended number of players according to the...</td>\n",
              "      <td>1–5 — Best: 3</td>\n",
              "    </tr>\n",
              "    <tr>\n",
              "      <th>19</th>\n",
              "      <td>Estimated time of play</td>\n",
              "      <td>45–60  Min     Playing Time</td>\n",
              "    </tr>\n",
              "    <tr>\n",
              "      <th>20</th>\n",
              "      <td>Official recommended age</td>\n",
              "      <td>14+</td>\n",
              "    </tr>\n",
              "    <tr>\n",
              "      <th>21</th>\n",
              "      <td>Community recommended age</td>\n",
              "      <td>10+</td>\n",
              "    </tr>\n",
              "    <tr>\n",
              "      <th>22</th>\n",
              "      <td>Price on   Amazon</td>\n",
              "      <td>$39.99</td>\n",
              "    </tr>\n",
              "    <tr>\n",
              "      <th>23</th>\n",
              "      <td>Price on In Hat Inc</td>\n",
              "      <td>from $39.95</td>\n",
              "    </tr>\n",
              "    <tr>\n",
              "      <th>24</th>\n",
              "      <td>Price on   Boardtopia</td>\n",
              "      <td>from $39.99</td>\n",
              "    </tr>\n",
              "    <tr>\n",
              "      <th>25</th>\n",
              "      <td>Price on Hobbies and Games</td>\n",
              "      <td>from C$56.99</td>\n",
              "    </tr>\n",
              "    <tr>\n",
              "      <th>26</th>\n",
              "      <td>Price on  Miniature Market</td>\n",
              "      <td>from $23.99</td>\n",
              "    </tr>\n",
              "    <tr>\n",
              "      <th>27</th>\n",
              "      <td>Price on Gamers Guild AZ</td>\n",
              "      <td>from $39.99</td>\n",
              "    </tr>\n",
              "    <tr>\n",
              "      <th>28</th>\n",
              "      <td>Price on Noble Knight Games</td>\n",
              "      <td>from $30.00</td>\n",
              "    </tr>\n",
              "  </tbody>\n",
              "</table>\n",
              "</div>\n",
              "    <div class=\"colab-df-buttons\">\n",
              "\n",
              "  <div class=\"colab-df-container\">\n",
              "    <button class=\"colab-df-convert\" onclick=\"convertToInteractive('df-d5c33ea4-61f5-4b7e-801b-5195f0051f4c')\"\n",
              "            title=\"Convert this dataframe to an interactive table.\"\n",
              "            style=\"display:none;\">\n",
              "\n",
              "  <svg xmlns=\"http://www.w3.org/2000/svg\" height=\"24px\" viewBox=\"0 -960 960 960\">\n",
              "    <path d=\"M120-120v-720h720v720H120Zm60-500h600v-160H180v160Zm220 220h160v-160H400v160Zm0 220h160v-160H400v160ZM180-400h160v-160H180v160Zm440 0h160v-160H620v160ZM180-180h160v-160H180v160Zm440 0h160v-160H620v160Z\"/>\n",
              "  </svg>\n",
              "    </button>\n",
              "\n",
              "  <style>\n",
              "    .colab-df-container {\n",
              "      display:flex;\n",
              "      gap: 12px;\n",
              "    }\n",
              "\n",
              "    .colab-df-convert {\n",
              "      background-color: #E8F0FE;\n",
              "      border: none;\n",
              "      border-radius: 50%;\n",
              "      cursor: pointer;\n",
              "      display: none;\n",
              "      fill: #1967D2;\n",
              "      height: 32px;\n",
              "      padding: 0 0 0 0;\n",
              "      width: 32px;\n",
              "    }\n",
              "\n",
              "    .colab-df-convert:hover {\n",
              "      background-color: #E2EBFA;\n",
              "      box-shadow: 0px 1px 2px rgba(60, 64, 67, 0.3), 0px 1px 3px 1px rgba(60, 64, 67, 0.15);\n",
              "      fill: #174EA6;\n",
              "    }\n",
              "\n",
              "    .colab-df-buttons div {\n",
              "      margin-bottom: 4px;\n",
              "    }\n",
              "\n",
              "    [theme=dark] .colab-df-convert {\n",
              "      background-color: #3B4455;\n",
              "      fill: #D2E3FC;\n",
              "    }\n",
              "\n",
              "    [theme=dark] .colab-df-convert:hover {\n",
              "      background-color: #434B5C;\n",
              "      box-shadow: 0px 1px 3px 1px rgba(0, 0, 0, 0.15);\n",
              "      filter: drop-shadow(0px 1px 2px rgba(0, 0, 0, 0.3));\n",
              "      fill: #FFFFFF;\n",
              "    }\n",
              "  </style>\n",
              "\n",
              "    <script>\n",
              "      const buttonEl =\n",
              "        document.querySelector('#df-d5c33ea4-61f5-4b7e-801b-5195f0051f4c button.colab-df-convert');\n",
              "      buttonEl.style.display =\n",
              "        google.colab.kernel.accessAllowed ? 'block' : 'none';\n",
              "\n",
              "      async function convertToInteractive(key) {\n",
              "        const element = document.querySelector('#df-d5c33ea4-61f5-4b7e-801b-5195f0051f4c');\n",
              "        const dataTable =\n",
              "          await google.colab.kernel.invokeFunction('convertToInteractive',\n",
              "                                                    [key], {});\n",
              "        if (!dataTable) return;\n",
              "\n",
              "        const docLinkHtml = 'Like what you see? Visit the ' +\n",
              "          '<a target=\"_blank\" href=https://colab.research.google.com/notebooks/data_table.ipynb>data table notebook</a>'\n",
              "          + ' to learn more about interactive tables.';\n",
              "        element.innerHTML = '';\n",
              "        dataTable['output_type'] = 'display_data';\n",
              "        await google.colab.output.renderOutput(dataTable, element);\n",
              "        const docLink = document.createElement('div');\n",
              "        docLink.innerHTML = docLinkHtml;\n",
              "        element.appendChild(docLink);\n",
              "      }\n",
              "    </script>\n",
              "  </div>\n",
              "\n",
              "\n",
              "    <div id=\"df-51c9197a-e18c-4060-85d1-b9593584ff1a\">\n",
              "      <button class=\"colab-df-quickchart\" onclick=\"quickchart('df-51c9197a-e18c-4060-85d1-b9593584ff1a')\"\n",
              "                title=\"Suggest charts\"\n",
              "                style=\"display:none;\">\n",
              "\n",
              "<svg xmlns=\"http://www.w3.org/2000/svg\" height=\"24px\"viewBox=\"0 0 24 24\"\n",
              "     width=\"24px\">\n",
              "    <g>\n",
              "        <path d=\"M19 3H5c-1.1 0-2 .9-2 2v14c0 1.1.9 2 2 2h14c1.1 0 2-.9 2-2V5c0-1.1-.9-2-2-2zM9 17H7v-7h2v7zm4 0h-2V7h2v10zm4 0h-2v-4h2v4z\"/>\n",
              "    </g>\n",
              "</svg>\n",
              "      </button>\n",
              "\n",
              "<style>\n",
              "  .colab-df-quickchart {\n",
              "      --bg-color: #E8F0FE;\n",
              "      --fill-color: #1967D2;\n",
              "      --hover-bg-color: #E2EBFA;\n",
              "      --hover-fill-color: #174EA6;\n",
              "      --disabled-fill-color: #AAA;\n",
              "      --disabled-bg-color: #DDD;\n",
              "  }\n",
              "\n",
              "  [theme=dark] .colab-df-quickchart {\n",
              "      --bg-color: #3B4455;\n",
              "      --fill-color: #D2E3FC;\n",
              "      --hover-bg-color: #434B5C;\n",
              "      --hover-fill-color: #FFFFFF;\n",
              "      --disabled-bg-color: #3B4455;\n",
              "      --disabled-fill-color: #666;\n",
              "  }\n",
              "\n",
              "  .colab-df-quickchart {\n",
              "    background-color: var(--bg-color);\n",
              "    border: none;\n",
              "    border-radius: 50%;\n",
              "    cursor: pointer;\n",
              "    display: none;\n",
              "    fill: var(--fill-color);\n",
              "    height: 32px;\n",
              "    padding: 0;\n",
              "    width: 32px;\n",
              "  }\n",
              "\n",
              "  .colab-df-quickchart:hover {\n",
              "    background-color: var(--hover-bg-color);\n",
              "    box-shadow: 0 1px 2px rgba(60, 64, 67, 0.3), 0 1px 3px 1px rgba(60, 64, 67, 0.15);\n",
              "    fill: var(--button-hover-fill-color);\n",
              "  }\n",
              "\n",
              "  .colab-df-quickchart-complete:disabled,\n",
              "  .colab-df-quickchart-complete:disabled:hover {\n",
              "    background-color: var(--disabled-bg-color);\n",
              "    fill: var(--disabled-fill-color);\n",
              "    box-shadow: none;\n",
              "  }\n",
              "\n",
              "  .colab-df-spinner {\n",
              "    border: 2px solid var(--fill-color);\n",
              "    border-color: transparent;\n",
              "    border-bottom-color: var(--fill-color);\n",
              "    animation:\n",
              "      spin 1s steps(1) infinite;\n",
              "  }\n",
              "\n",
              "  @keyframes spin {\n",
              "    0% {\n",
              "      border-color: transparent;\n",
              "      border-bottom-color: var(--fill-color);\n",
              "      border-left-color: var(--fill-color);\n",
              "    }\n",
              "    20% {\n",
              "      border-color: transparent;\n",
              "      border-left-color: var(--fill-color);\n",
              "      border-top-color: var(--fill-color);\n",
              "    }\n",
              "    30% {\n",
              "      border-color: transparent;\n",
              "      border-left-color: var(--fill-color);\n",
              "      border-top-color: var(--fill-color);\n",
              "      border-right-color: var(--fill-color);\n",
              "    }\n",
              "    40% {\n",
              "      border-color: transparent;\n",
              "      border-right-color: var(--fill-color);\n",
              "      border-top-color: var(--fill-color);\n",
              "    }\n",
              "    60% {\n",
              "      border-color: transparent;\n",
              "      border-right-color: var(--fill-color);\n",
              "    }\n",
              "    80% {\n",
              "      border-color: transparent;\n",
              "      border-right-color: var(--fill-color);\n",
              "      border-bottom-color: var(--fill-color);\n",
              "    }\n",
              "    90% {\n",
              "      border-color: transparent;\n",
              "      border-bottom-color: var(--fill-color);\n",
              "    }\n",
              "  }\n",
              "</style>\n",
              "\n",
              "      <script>\n",
              "        async function quickchart(key) {\n",
              "          const quickchartButtonEl =\n",
              "            document.querySelector('#' + key + ' button');\n",
              "          quickchartButtonEl.disabled = true;  // To prevent multiple clicks.\n",
              "          quickchartButtonEl.classList.add('colab-df-spinner');\n",
              "          try {\n",
              "            const charts = await google.colab.kernel.invokeFunction(\n",
              "                'suggestCharts', [key], {});\n",
              "          } catch (error) {\n",
              "            console.error('Error during call to suggestCharts:', error);\n",
              "          }\n",
              "          quickchartButtonEl.classList.remove('colab-df-spinner');\n",
              "          quickchartButtonEl.classList.add('colab-df-quickchart-complete');\n",
              "        }\n",
              "        (() => {\n",
              "          let quickchartButtonEl =\n",
              "            document.querySelector('#df-51c9197a-e18c-4060-85d1-b9593584ff1a button');\n",
              "          quickchartButtonEl.style.display =\n",
              "            google.colab.kernel.accessAllowed ? 'block' : 'none';\n",
              "        })();\n",
              "      </script>\n",
              "    </div>\n",
              "\n",
              "  <div id=\"id_8f988811-3429-4b29-b9b3-0f49d6051a93\">\n",
              "    <style>\n",
              "      .colab-df-generate {\n",
              "        background-color: #E8F0FE;\n",
              "        border: none;\n",
              "        border-radius: 50%;\n",
              "        cursor: pointer;\n",
              "        display: none;\n",
              "        fill: #1967D2;\n",
              "        height: 32px;\n",
              "        padding: 0 0 0 0;\n",
              "        width: 32px;\n",
              "      }\n",
              "\n",
              "      .colab-df-generate:hover {\n",
              "        background-color: #E2EBFA;\n",
              "        box-shadow: 0px 1px 2px rgba(60, 64, 67, 0.3), 0px 1px 3px 1px rgba(60, 64, 67, 0.15);\n",
              "        fill: #174EA6;\n",
              "      }\n",
              "\n",
              "      [theme=dark] .colab-df-generate {\n",
              "        background-color: #3B4455;\n",
              "        fill: #D2E3FC;\n",
              "      }\n",
              "\n",
              "      [theme=dark] .colab-df-generate:hover {\n",
              "        background-color: #434B5C;\n",
              "        box-shadow: 0px 1px 3px 1px rgba(0, 0, 0, 0.15);\n",
              "        filter: drop-shadow(0px 1px 2px rgba(0, 0, 0, 0.3));\n",
              "        fill: #FFFFFF;\n",
              "      }\n",
              "    </style>\n",
              "    <button class=\"colab-df-generate\" onclick=\"generateWithVariable('df_estadisticas')\"\n",
              "            title=\"Generate code using this dataframe.\"\n",
              "            style=\"display:none;\">\n",
              "\n",
              "  <svg xmlns=\"http://www.w3.org/2000/svg\" height=\"24px\"viewBox=\"0 0 24 24\"\n",
              "       width=\"24px\">\n",
              "    <path d=\"M7,19H8.4L18.45,9,17,7.55,7,17.6ZM5,21V16.75L18.45,3.32a2,2,0,0,1,2.83,0l1.4,1.43a1.91,1.91,0,0,1,.58,1.4,1.91,1.91,0,0,1-.58,1.4L9.25,21ZM18.45,9,17,7.55Zm-12,3A5.31,5.31,0,0,0,4.9,8.1,5.31,5.31,0,0,0,1,6.5,5.31,5.31,0,0,0,4.9,4.9,5.31,5.31,0,0,0,6.5,1,5.31,5.31,0,0,0,8.1,4.9,5.31,5.31,0,0,0,12,6.5,5.46,5.46,0,0,0,6.5,12Z\"/>\n",
              "  </svg>\n",
              "    </button>\n",
              "    <script>\n",
              "      (() => {\n",
              "      const buttonEl =\n",
              "        document.querySelector('#id_8f988811-3429-4b29-b9b3-0f49d6051a93 button.colab-df-generate');\n",
              "      buttonEl.style.display =\n",
              "        google.colab.kernel.accessAllowed ? 'block' : 'none';\n",
              "\n",
              "      buttonEl.onclick = () => {\n",
              "        google.colab.notebook.generateWithVariable('df_estadisticas');\n",
              "      }\n",
              "      })();\n",
              "    </script>\n",
              "  </div>\n",
              "\n",
              "    </div>\n",
              "  </div>\n"
            ],
            "text/plain": [
              "                                                Title  \\\n",
              "0                                         Avg. Rating   \n",
              "1                                      No. of Ratings   \n",
              "2               Difficulty according to the community   \n",
              "3                                            Comments   \n",
              "4                                                Fans   \n",
              "5                                        Overall Rank   \n",
              "6                                         Family Rank   \n",
              "7                                      All Time Plays   \n",
              "8                                          This Month   \n",
              "9                                                 Own   \n",
              "10                                        Prev. Owned   \n",
              "11                                          For Trade   \n",
              "12                                      Want In Trade   \n",
              "13                                           Wishlist   \n",
              "14                                          Has Parts   \n",
              "15                                         Want Parts   \n",
              "16                               Number of expansions   \n",
              "17                         Official number of players   \n",
              "18  Recommended number of players according to the...   \n",
              "19                             Estimated time of play   \n",
              "20                           Official recommended age   \n",
              "21                          Community recommended age   \n",
              "22                                  Price on   Amazon   \n",
              "23                                Price on In Hat Inc   \n",
              "24                              Price on   Boardtopia   \n",
              "25                         Price on Hobbies and Games   \n",
              "26                         Price on  Miniature Market   \n",
              "27                           Price on Gamers Guild AZ   \n",
              "28                        Price on Noble Knight Games   \n",
              "\n",
              "                              Value  \n",
              "0                             7.211  \n",
              "1                            20,744  \n",
              "2                          2.06 / 5  \n",
              "3                             3,037  \n",
              "4                             1,018  \n",
              "5                               462  \n",
              "6                               121  \n",
              "7                            96,506  \n",
              "8                                96  \n",
              "9                            34,184  \n",
              "10                            4,245  \n",
              "11                              669  \n",
              "12                              498  \n",
              "13                            5,645  \n",
              "14                               18  \n",
              "15                                5  \n",
              "16                                8  \n",
              "17                              1–6  \n",
              "18                    1–5 — Best: 3  \n",
              "19      45–60  Min     Playing Time  \n",
              "20                              14+  \n",
              "21                              10+  \n",
              "22                           $39.99  \n",
              "23                      from $39.95  \n",
              "24                      from $39.99  \n",
              "25                     from C$56.99  \n",
              "26                      from $23.99  \n",
              "27                      from $39.99  \n",
              "28                      from $30.00  "
            ]
          },
          "execution_count": 19,
          "metadata": {},
          "output_type": "execute_result"
        }
      ],
      "source": [
        "df_estadisticas = pd.read_csv('datos/estadisticas/estadisticas.csv')\n",
        "df_estadisticas"
      ]
    },
    {
      "cell_type": "code",
      "execution_count": null,
      "metadata": {
        "id": "ixYOrGBfyvIQ"
      },
      "outputs": [],
      "source": [
        "class BDTabular():\n",
        "    def __init__(self, data: pd.DataFrame, lm: LanguageModel):\n",
        "        self._data = data\n",
        "        self._lm = lm\n",
        "        self._estructura = {\n",
        "            \"columnas\": data.columns.tolist(),\n",
        "            \"tipos\": data.dtypes.tolist(),\n",
        "            \"cantidad filas\": data.shape[0],\n",
        "        }\n",
        "        self._prompt_base = self._crear_prompt_base()\n",
        "\n",
        "    def _crear_prompt_base(self):\n",
        "        return f\"\"\"\n",
        "Eres un modelo encargado de convertir las consultas del usuario que vienen en lenguaje natural, convertirlas a código de pandas en python, la información del dataframe es la siguiente:\n",
        "columnas: {self._estructura['columnas']}\n",
        "tipos: {self._estructura['tipos']}\n",
        "cantidad filas: {self._estructura['cantidad filas']}\n",
        "\n",
        "La consulta del usuario es la siguiente:\n",
        "{{}}\n",
        "\n",
        "RESPONDE UNICAMENTE CON CÓDIGO PYTHON Y NADA MÁS, LA VARIABLE SE LLAMA \"df\". NO NOS DES EL CÓDIGO PARA ALMACENAR EL VALOR EN UNA VARIABLE, SINO DAME EL CÓDIGO LISTO PARA IMPRIMIR SU EJECUCIÓN\n",
        "\"\"\"\n",
        "\n",
        "    def ejecutar_consulta(self, consulta):\n",
        "        df = self._data\n",
        "        prompt = self._prompt_base.format(consulta)\n",
        "        respuesta = self._lm.generar_respuesta(prompt).replace('```python', '').replace('```', '').strip()\n",
        "\n",
        "        if respuesta == \"None\":\n",
        "            return None\n",
        "        try:\n",
        "            return eval(respuesta)\n",
        "        except Exception as e:\n",
        "            print(f\"Error al evaluar el código: {e}\")\n",
        "            return None"
      ]
    },
    {
      "cell_type": "code",
      "execution_count": null,
      "metadata": {
        "id": "oufdn8u6PfZ1"
      },
      "outputs": [],
      "source": [
        "bd_tabular = BDTabular(df_estadisticas, llm_mistral)"
      ]
    },
    {
      "cell_type": "markdown",
      "metadata": {
        "id": "xkrkGJOL9OIO"
      },
      "source": [
        "## BD de Grafos de Relaciones\n",
        "\n",
        "Con rdflib"
      ]
    },
    {
      "cell_type": "code",
      "execution_count": null,
      "metadata": {
        "colab": {
          "base_uri": "https://localhost:8080/"
        },
        "id": "3NKubeMcbzgn",
        "outputId": "649318ac-2d28-4ede-a32d-02ec5e2a6c84"
      },
      "outputs": [
        {
          "name": "stdout",
          "output_type": "stream",
          "text": [
            "\u001b[?25l   \u001b[90m━━━━━━━━━━━━━━━━━━━━━━━━━━━━━━━━━━━━━━━━\u001b[0m \u001b[32m0.0/565.1 kB\u001b[0m \u001b[31m?\u001b[0m eta \u001b[36m-:--:--\u001b[0m\r\u001b[2K   \u001b[90m━━━━━━━━━━━━━━━━━━━━━━━━━━━━━━━━━━━━━━━━\u001b[0m \u001b[32m565.1/565.1 kB\u001b[0m \u001b[31m27.6 MB/s\u001b[0m eta \u001b[36m0:00:00\u001b[0m\n",
            "\u001b[?25h"
          ]
        }
      ],
      "source": [
        "!pip install rdflib --quiet"
      ]
    },
    {
      "cell_type": "code",
      "execution_count": null,
      "metadata": {
        "id": "8f8s21EWPRao"
      },
      "outputs": [],
      "source": [
        "from rdflib import Graph, URIRef, Literal, Namespace"
      ]
    },
    {
      "cell_type": "markdown",
      "metadata": {
        "id": "GPltqu5LB3Ky"
      },
      "source": [
        "Leer y limpiar dataframe."
      ]
    },
    {
      "cell_type": "code",
      "execution_count": null,
      "metadata": {
        "id": "VZQ7oO2vB12k"
      },
      "outputs": [],
      "source": [
        "df_relaciones = pd.read_csv('datos/relaciones/creditos_relaciones.csv')\n",
        "df_relaciones['Objeto'] = df_relaciones['Objeto'].str.replace(r'[^a-zA-Z0-9]', '', regex=True)"
      ]
    },
    {
      "cell_type": "code",
      "execution_count": null,
      "metadata": {
        "id": "S154gQ-B9RIz"
      },
      "outputs": [],
      "source": [
        "class BDGraph:\n",
        "    def __init__(self, data: pd.DataFrame, lm: LanguageModel):\n",
        "        self._data = data\n",
        "        self._lm = lm\n",
        "        self._graph = Graph()\n",
        "        self._ns = Namespace(\"http://ejemplo.org/\")\n",
        "        self._estructura = {\n",
        "            \"columnas\": data.columns.tolist(),\n",
        "            \"cantidad filas\": data.shape[0],\n",
        "        }\n",
        "        self._cargar_grafo()\n",
        "        self._prompt_base = self._crear_prompt_base()\n",
        "\n",
        "    def _cargar_grafo(self):\n",
        "        for _, row in self._data.iterrows():\n",
        "            sujeto = URIRef(self._ns[str(row['Sujeto']).replace(\" \", \"_\")])\n",
        "            relacion = URIRef(self._ns[str(row['Relación']).replace(\" \", \"_\")])\n",
        "            objeto = URIRef(self._ns[str(row['Objeto']).replace(\" \", \"_\")])\n",
        "            self._graph.add((sujeto, relacion, objeto))\n",
        "\n",
        "    def _crear_prompt_base(self):\n",
        "        return \"\"\"\n",
        "Eres un modelo encargado de traducir preguntas del usuario escritas en lenguaje natural a consultas SPARQL.\n",
        "\n",
        "Estructura del grafo:\n",
        "- Cada relación es un triplete del tipo (Sujeto, Relación, Objeto).\n",
        "- Los nodos provienen de un dataframe con las columnas: {self._estructura['columnas']}.\n",
        "\n",
        "Ejemplo de una consulta válida:\n",
        "SELECT ?sujeto WHERE {{\n",
        "    ?sujeto <http://ejemplo.org/es_amigo_de> <http://ejemplo.org/Juan> .\n",
        "}}\n",
        "\n",
        "Ahora, responde SOLO con la consulta SPARQL correspondiente a la siguiente pregunta del usuario:\n",
        "{}\n",
        "\n",
        "NO EXPLIQUES NADA. SOLO DEVUELVE LA CONSULTA SPARQL.\n",
        "\"\"\"\n",
        "\n",
        "    def ejecutar_consulta(self, consulta: str) -> pd.DataFrame:\n",
        "\n",
        "        prompt = self._prompt_base.format(consulta)\n",
        "        consulta_sparql = self._lm.generar_respuesta(prompt).strip()\n",
        "\n",
        "        try:\n",
        "            resultados = self._graph.query(consulta_sparql)\n",
        "        except Exception as e:\n",
        "            print(f\"Error ejecutando SPARQL: {e}\")\n",
        "            return pd.DataFrame()\n",
        "\n",
        "        # Extraer los nodos que aparecen en los resultados\n",
        "        valores = set()\n",
        "        for row in resultados:\n",
        "            for val in row:\n",
        "                if isinstance(val, URIRef):\n",
        "                    nombre = str(val).split(\"/\")[-1].replace(\"_\", \" \")\n",
        "                    valores.add(nombre)\n",
        "\n",
        "        # Filtrar el DataFrame original por coincidencias en Sujeto u Objeto\n",
        "        df_filtrado = self._data[\n",
        "            self._data[\"Sujeto\"].isin(valores) | self._data[\"Objeto\"].isin(valores)\n",
        "        ]\n",
        "        return df_filtrado.reset_index(drop=True)"
      ]
    },
    {
      "cell_type": "code",
      "execution_count": null,
      "metadata": {
        "id": "uuOa-MGScsqB"
      },
      "outputs": [],
      "source": [
        "bd_grafo = BDGraph(df_relaciones, llm_mistral)"
      ]
    },
    {
      "cell_type": "markdown",
      "metadata": {
        "id": "DLcqysbPfuF2"
      },
      "source": [
        "# Clasificador de consultas\n",
        "\n",
        "Se compararán dos clasificadores y se evaluará su performance:\n",
        "- Evaluador con Regresión Logística\n",
        "- Evaluador LLM con entrenamiento few-shot"
      ]
    },
    {
      "cell_type": "code",
      "execution_count": null,
      "metadata": {
        "id": "Olv5utX1qehQ"
      },
      "outputs": [],
      "source": [
        "# Procesamiento de datos\n",
        "import pandas as pd\n",
        "import numpy as np\n",
        "\n",
        "from sklearn.model_selection import train_test_split\n",
        "from sklearn.metrics import classification_report"
      ]
    },
    {
      "cell_type": "markdown",
      "metadata": {
        "id": "yDI0vMrkqMgS"
      },
      "source": [
        "## Datos de entrenamiento y prueba"
      ]
    },
    {
      "cell_type": "markdown",
      "metadata": {
        "id": "QdYB9XAhhd6d"
      },
      "source": [
        "### Archivo CSV de consultas\n",
        "\n",
        "Generado con Claude Sonnet 4"
      ]
    },
    {
      "cell_type": "code",
      "execution_count": null,
      "metadata": {
        "id": "kPpjE3qWqclj"
      },
      "outputs": [],
      "source": [
        "df_queries = pd.read_csv(\"datos/queries_clasificador.csv\")\n",
        "X_train, X_test, y_train, y_test = train_test_split(df_queries[\"query\"], df_queries[\"categoria\"], test_size=0.2, random_state=42)"
      ]
    },
    {
      "cell_type": "markdown",
      "metadata": {
        "id": "7UIzJPcAhgGv"
      },
      "source": [
        "## Clasificador LR\n",
        "\n",
        "Se hará embedding del texto utilizando el modelo `e5-multilingual-small`."
      ]
    },
    {
      "cell_type": "code",
      "execution_count": null,
      "metadata": {
        "id": "3N2XMEY4f0MC"
      },
      "outputs": [],
      "source": [
        "from sklearn.linear_model import LogisticRegression"
      ]
    },
    {
      "cell_type": "code",
      "execution_count": null,
      "metadata": {
        "id": "d0T5pqMJht28"
      },
      "outputs": [],
      "source": [
        "class Clasificador_LR():\n",
        "    def __init__(self, X_train_string, y_train, tokenizer, embedder, random_state=None):\n",
        "        self._model = LogisticRegression(class_weight='balanced', random_state=random_state)\n",
        "\n",
        "        self._tokenizer = tokenizer\n",
        "        self._embedder = embedder\n",
        "        X_train_embed = self._embed_sentences(X_train_string)\n",
        "\n",
        "        self._model.fit(X_train_embed, y_train)\n",
        "\n",
        "    def _embed_sentences(self, sentences):\n",
        "        inputs = self._tokenizer(sentences, padding=True, truncation=True, return_tensors=\"pt\")\n",
        "        with torch.no_grad():\n",
        "            model_output = self._embedder(**inputs)\n",
        "        embeddings = model_output.last_hidden_state.mean(dim=1)  # Mean pooling\n",
        "        embeddings = torch.nn.functional.normalize(embeddings, p=2, dim=1)  # L2 normalize\n",
        "        return embeddings.cpu().numpy()\n",
        "\n",
        "    def predecir(self, data):\n",
        "        # Si es un único valor, convertir en lista\n",
        "        if isinstance(data, str):\n",
        "            print(\"is string\")\n",
        "            data = [data]\n",
        "        text_embedded = self._embed_sentences(data)\n",
        "        return self._model.predict(text_embedded)"
      ]
    },
    {
      "cell_type": "code",
      "execution_count": null,
      "metadata": {
        "id": "ku_qvWoprW8W"
      },
      "outputs": [],
      "source": [
        "clasificador_lr = Clasificador_LR(X_train.to_list(), y_train, tokenizer, embedder, random_state=42)\n"
      ]
    },
    {
      "cell_type": "code",
      "execution_count": null,
      "metadata": {
        "colab": {
          "base_uri": "https://localhost:8080/",
          "height": 226
        },
        "id": "GvZEUwE0jXqK",
        "outputId": "5ba0588b-6965-47ce-bfc3-a924afa6047d"
      },
      "outputs": [
        {
          "name": "stdout",
          "output_type": "stream",
          "text": [
            "              precision    recall  f1-score   support\n",
            "\n",
            "estadisticas       0.64      0.62      0.63        26\n",
            " informacion       0.92      0.90      0.91       101\n",
            "  relaciones       0.65      0.79      0.71        14\n",
            "\n",
            "    accuracy                           0.84       141\n",
            "   macro avg       0.74      0.77      0.75       141\n",
            "weighted avg       0.84      0.84      0.84       141\n",
            "\n",
            "is string\n"
          ]
        },
        {
          "data": {
            "application/vnd.google.colaboratory.intrinsic+json": {
              "type": "string"
            },
            "text/plain": [
              "'relaciones'"
            ]
          },
          "execution_count": 53,
          "metadata": {},
          "output_type": "execute_result"
        }
      ],
      "source": [
        "print(classification_report(y_test, clasificador_lr.predecir(X_test.to_list())))\n",
        "clasificador_lr.predecir(\"¿Quién inventó el juego?\")[0]"
      ]
    },
    {
      "cell_type": "markdown",
      "metadata": {
        "id": "CgXxFSzlpxt-"
      },
      "source": [
        "## Clasificador LLM"
      ]
    },
    {
      "cell_type": "code",
      "execution_count": null,
      "metadata": {
        "id": "ZWmX4XxEpwqr"
      },
      "outputs": [],
      "source": [
        "class Clasificador_LLM():\n",
        "    def __init__(self, lm: LanguageModel):\n",
        "        self._lm = lm\n",
        "        self._prompt_base = self._crear_prompt_base()\n",
        "\n",
        "    def _crear_prompt_base(self):\n",
        "        return \"\"\"\n",
        "Eres un modelo de clasificacion de consultas sobre un juego llamado Tiny Towns. Debes clasificar las consultas en una de las siguientes 3 categorías:\n",
        "1. relaciones -> Preguntas sobre algo que sea una relación sobre temas alrededor del juego, su entorno, como sus creadores, otros juegos, etc.\n",
        "2. informacion -> Preguntas sobre información del juego, como reglas, mecánicas, qué hacer en ciertas situaciones\n",
        "3. estadisticas -> Preguntas sobre datos numéricos o estadísticos del juego, como números, precios, cantidad de jugadores o de ventas, dificultad asociada etc.\n",
        "\n",
        "Por ejemplo:\n",
        "Pregunta: 'Quien es el creador del juego?', Respuesta: relaciones\n",
        "Pregunta: 'Qué juego relacionado existe?', Respuesta: relaciones\n",
        "Pregunta: 'Como se gana?', Respuesta: informacion\n",
        "Pregunta: 'Qué hacer si pierdo mi ultima ficha?', Respuesta: informacion\n",
        "Pregunta: 'Que es lo más divertido de Tiny Towns?', Respuesta: informacion\n",
        "Pregunta: 'Cuantos jugadores admite el juego?', Respuesta: estadisticas\n",
        "Pregunta: 'Cuantos jugadores activos tiene el juego?', Respuesta: estadisticas\n",
        "Pregunta: 'Cuál es el precio en Amazon?', Respuesta: estadisticas\n",
        "\n",
        "Tu consulta es la siguiente:\n",
        "{}\n",
        "\n",
        "Responde solo con una de las siguientes palabras exactas: 'relaciones', 'informacion' o 'estadisticas'. NO RESPONDER NADA MAS QUE LA CATEGORÍA.\n",
        "\"\"\"\n",
        "\n",
        "    def predecir(self, data):\n",
        "        if isinstance(data, str):\n",
        "            data = [data]\n",
        "\n",
        "        predicciones = []\n",
        "        for query in data:\n",
        "            prompt = self._prompt_base.format(query)\n",
        "            respuesta = self._lm.generar_respuesta(prompt).replace('```python', '').replace('```', '').strip().lower()\n",
        "            # Asegura que la respuesta sea válida\n",
        "            if respuesta not in {\"relaciones\", \"informacion\", \"estadisticas\"}:\n",
        "                print(f\"Respuesta inválida del clasificador LLM: {respuesta}\")\n",
        "                respuesta = \"informacion\"  # por defecto si no es válida\n",
        "            predicciones.append(respuesta)\n",
        "\n",
        "        return predicciones"
      ]
    },
    {
      "cell_type": "code",
      "execution_count": null,
      "metadata": {
        "colab": {
          "base_uri": "https://localhost:8080/",
          "height": 333
        },
        "id": "Cl384DJDvbbB",
        "outputId": "b20f0645-3d3a-45e4-b15f-725822861d78"
      },
      "outputs": [
        {
          "name": "stderr",
          "output_type": "stream",
          "text": [
            "/usr/local/lib/python3.11/dist-packages/sklearn/metrics/_classification.py:1565: UndefinedMetricWarning: Recall is ill-defined and being set to 0.0 in labels with no true samples. Use `zero_division` parameter to control this behavior.\n",
            "  _warn_prf(average, modifier, f\"{metric.capitalize()} is\", len(result))\n",
            "/usr/local/lib/python3.11/dist-packages/sklearn/metrics/_classification.py:1565: UndefinedMetricWarning: Recall is ill-defined and being set to 0.0 in labels with no true samples. Use `zero_division` parameter to control this behavior.\n",
            "  _warn_prf(average, modifier, f\"{metric.capitalize()} is\", len(result))\n",
            "/usr/local/lib/python3.11/dist-packages/sklearn/metrics/_classification.py:1565: UndefinedMetricWarning: Recall is ill-defined and being set to 0.0 in labels with no true samples. Use `zero_division` parameter to control this behavior.\n",
            "  _warn_prf(average, modifier, f\"{metric.capitalize()} is\", len(result))\n"
          ]
        },
        {
          "name": "stdout",
          "output_type": "stream",
          "text": [
            "              precision    recall  f1-score   support\n",
            "\n",
            "estadisticas       0.50      1.00      0.67         1\n",
            " informacion       1.00      0.50      0.67         4\n",
            "  relaciones       0.00      0.00      0.00         0\n",
            "\n",
            "    accuracy                           0.60         5\n",
            "   macro avg       0.50      0.50      0.44         5\n",
            "weighted avg       0.90      0.60      0.67         5\n",
            "\n"
          ]
        },
        {
          "data": {
            "application/vnd.google.colaboratory.intrinsic+json": {
              "type": "string"
            },
            "text/plain": [
              "'relaciones'"
            ]
          },
          "execution_count": 73,
          "metadata": {},
          "output_type": "execute_result"
        }
      ],
      "source": [
        "clasificador_llm = Clasificador_LLM(llm_mistral)\n",
        "\n",
        "print(classification_report(y_test[:5], clasificador_llm.predecir(X_test[:5].to_list())))\n",
        "clasificador_llm.predecir(\"¿Quién inventó el juego?\")[0]"
      ]
    },
    {
      "cell_type": "markdown",
      "metadata": {
        "id": "99vlyTgp3BpO"
      },
      "source": [
        "## Conclusión y elección del modelo\n",
        "\n",
        "Se puede observar que el clasificador por regresión logística tiene un performance aceptable, y un costo mucho menor. Por lo tanto, se utilizará este clasificador para el modelo final.\n",
        "\n",
        "Sin embargo, es razonable suponer que el clasificador LLM tendrá mayores capacidades de generalización al estar pre-entrenado y ser de uso general, pudiendo razonar de forma zero-shot la categoría a asignar a consultas diferentes a cualquier otra en el dataset. Ahora bien, incluso a pesar de esto, no resulta una opción fácil de probar, y posiblemente no viable al consumir demasiado rápidamente la cuota de prompts que nos proporcionan los servicios de LLMs por APIs."
      ]
    },
    {
      "cell_type": "markdown",
      "metadata": {
        "id": "QQN8rVAJ3ZzR"
      },
      "source": [
        "# Pipeline de Recuperación"
      ]
    },
    {
      "cell_type": "code",
      "execution_count": null,
      "metadata": {
        "colab": {
          "base_uri": "https://localhost:8080/"
        },
        "id": "BXBVb73Go7iw",
        "outputId": "1add4d48-ccdb-4b1d-e8de-c81f086ced48"
      },
      "outputs": [
        {
          "name": "stdout",
          "output_type": "stream",
          "text": [
            "Requirement already satisfied: rank_bm25 in /usr/local/lib/python3.11/dist-packages (0.2.2)\n",
            "Requirement already satisfied: numpy in /usr/local/lib/python3.11/dist-packages (from rank_bm25) (2.0.2)\n"
          ]
        }
      ],
      "source": [
        "!pip install rank_bm25"
      ]
    },
    {
      "cell_type": "code",
      "execution_count": null,
      "metadata": {
        "colab": {
          "base_uri": "https://localhost:8080/"
        },
        "id": "5xmJvzz96YA0",
        "outputId": "5aa3f772-76af-42d9-992f-8148f0db19c4"
      },
      "outputs": [
        {
          "name": "stderr",
          "output_type": "stream",
          "text": [
            "[nltk_data] Downloading package punkt_tab to /root/nltk_data...\n",
            "[nltk_data]   Unzipping tokenizers/punkt_tab.zip.\n"
          ]
        }
      ],
      "source": [
        "from rank_bm25 import BM25Okapi\n",
        "import nltk\n",
        "nltk.download('punkt_tab')\n",
        "from nltk.tokenize import word_tokenize"
      ]
    },
    {
      "cell_type": "code",
      "execution_count": null,
      "metadata": {
        "id": "1tdnZTbv37UK"
      },
      "outputs": [],
      "source": [
        "class BM25Searcher():\n",
        "    def __init__(self, texto):\n",
        "        self.texto = texto\n",
        "        self.texto_token = [word_tokenize(t.lower()) for t in texto]\n",
        "        self.bm25 = BM25Okapi(self.texto_token)\n",
        "\n",
        "    def buscar(self, query, n_resultados=5):\n",
        "        tokenized_query = word_tokenize(query.lower())\n",
        "        scores = self.bm25.get_scores(tokenized_query)\n",
        "        ranked_indices = sorted(range(len(scores)), key=lambda i: scores[i], reverse=True)[:n_resultados]\n",
        "        return [self.texto[i] for i in ranked_indices]\n",
        "\n",
        "class BDVectorial_Hibrida():\n",
        "    def __init__(self, bd_1: BDVectorial, bd_2: BM25Searcher):\n",
        "        self._vector_searcher = bd_1\n",
        "        self._bm25_searcher = bd_2\n",
        "\n",
        "    def ejecutar_consulta(self, consulta, n_resultados=5):\n",
        "        sem_docs = self._vector_searcher.buscar(consulta, n_resultados)\n",
        "        bm_docs = self._bm25_searcher.buscar(consulta, n_resultados)\n",
        "\n",
        "        # Combinar resultados por documento\n",
        "        combined_docs = list(set(sem_docs + bm_docs))\n",
        "\n",
        "        # rerank?\n",
        "\n",
        "        return combined_docs\n",
        "\n",
        "bm25_searcher = BM25Searcher(textos_split)\n",
        "bd_vectorial_hibrida = BDVectorial_Hibrida(bd_vectorial, bm25_searcher)"
      ]
    },
    {
      "cell_type": "code",
      "execution_count": null,
      "metadata": {
        "id": "Qr1IPGHM2_QP"
      },
      "outputs": [],
      "source": [
        "class Recuperador():\n",
        "    \"\"\"\n",
        "    Recuperador de información a partir de las bases de datos para RAG.\n",
        "    \"\"\"\n",
        "    def __init__(self, bd_info: BDVectorial_Hibrida, bd_stats: BDTabular, bd_rels: BDGraph, clasificador):\n",
        "        self._bd_info = bd_info\n",
        "        self._bd_stats = bd_stats\n",
        "        self._bd_rels = bd_rels\n",
        "        self._clasificador = clasificador\n",
        "\n",
        "    def recuperar(self, query: str):\n",
        "        clase = self._clasificador.predecir(query)[0]\n",
        "        if clase == \"informacion\":\n",
        "            return self._bd_info.ejecutar_consulta(query, n_resultados=5)\n",
        "        elif clase == \"estadisticas\":\n",
        "            return self._bd_stats.ejecutar_consulta(query)\n",
        "        elif clase == \"relaciones\":\n",
        "            return self._bd_rels.ejecutar_consulta(query)\n",
        "\n",
        "recuperador = Recuperador(bd_info=bd_vectorial_hibrida, bd_stats=bd_tabular, bd_rels=bd_grafo, clasificador=clasificador_lr)"
      ]
    },
    {
      "cell_type": "markdown",
      "metadata": {
        "id": "1tmIBjUPJvf6"
      },
      "source": [
        "# Chatbot"
      ]
    },
    {
      "cell_type": "code",
      "execution_count": null,
      "metadata": {
        "id": "VEj3mv4rJwMg"
      },
      "outputs": [],
      "source": [
        "class Chatbot():\n",
        "    def __init__(self, recuperador: Recuperador, llm: LanguageModel):\n",
        "        self._recuperador = recuperador\n",
        "        self._llm = llm\n",
        "\n",
        "    def chat_loop(self):\n",
        "        prompt = self._generar_prompt_inicial()\n",
        "        print(\"¡Hola! Soy el chatbot de Tiny Towns. ¿En qué puedo ayudarte hoy?\")\n",
        "        while True:\n",
        "            query = input(\"> \")\n",
        "            if query.lower() in [\"salir\", \"exit\", \"quit\"]:\n",
        "                print(\"¡Hasta luego!\")\n",
        "                break\n",
        "\n",
        "            contexto_rag = self._recuperador.recuperar(query)\n",
        "\n",
        "            prompt = prompt.format(query, contexto_rag)\n",
        "\n",
        "            respuesta = self._llm.generar_respuesta(prompt)\n",
        "\n",
        "            print(\"-- COMIENZA RESPUESTA\")\n",
        "            print(respuesta)\n",
        "            print(\"-- FIN RESPUESTA\")\n",
        "\n",
        "            prompt = self._continuar_prompt_contexto(query, respuesta)\n",
        "\n",
        "\n",
        "\n",
        "    def _generar_prompt_inicial(self):\n",
        "        return \"\"\"\n",
        "Eres un asistente útil para responder preguntas sobre el juego de mesaTiny Towns.\n",
        "Para cada pregunta se te proporcionará información relevante para responderla de una Base de Datos.\n",
        "\n",
        "<INICIA CONVERSACION>\n",
        "\n",
        "Tú: ¡Hola! Soy el chatbot de Tiny Towns. ¿En qué puedo ayudarte hoy?\n",
        "\n",
        "CONSULTA: {}\n",
        "\n",
        "INFORMACION RELEVANTE (IMPORTANTE: Si la información y el contexto no fueran suficientes para responder a la pregunta, debes pedir al usuario que reformule su pregunta.): {}\n",
        "\n",
        "Responde la consulta del usuario.\n",
        "\"\"\"\n",
        "\n",
        "    def _continuar_prompt_contexto(self, query_anterior, respuesta):\n",
        "        return query_anterior + \"\\n\\n Tú:\" + respuesta + \"\"\"\n",
        "\n",
        "<SIGUIENTE CONSULTA>\n",
        "\n",
        "CONSULTA: {}\n",
        "\n",
        "INFORMACION RELEVANTE: {}\n",
        "\n",
        "IMPORTANTE: Si la información y el contexto no fueran suficientes para responder a la pregunta, debes pedir al usuario que reformule su pregunta.\n",
        "\n",
        "Responde la consulta del usuario.\n",
        "\"\"\""
      ]
    },
    {
      "cell_type": "code",
      "execution_count": null,
      "metadata": {
        "colab": {
          "base_uri": "https://localhost:8080/",
          "height": 564
        },
        "id": "WUqU7qGl9t6M",
        "outputId": "1617ba56-68fb-4b43-db62-ce0e78a6bd43"
      },
      "outputs": [
        {
          "name": "stdout",
          "output_type": "stream",
          "text": [
            "¡Hola! Soy el chatbot de Tiny Towns. ¿En qué puedo ayudarte hoy?\n",
            "> Como gano una partidita\n"
          ]
        },
        {
          "ename": "KeyError",
          "evalue": "'self'",
          "output_type": "error",
          "traceback": [
            "\u001b[0;31m---------------------------------------------------------------------------\u001b[0m",
            "\u001b[0;31mKeyError\u001b[0m                                  Traceback (most recent call last)",
            "\u001b[0;32m/tmp/ipython-input-113-3733170884.py\u001b[0m in \u001b[0;36m<cell line: 0>\u001b[0;34m()\u001b[0m\n\u001b[0;32m----> 1\u001b[0;31m \u001b[0mChatbot\u001b[0m\u001b[0;34m(\u001b[0m\u001b[0mrecuperador\u001b[0m\u001b[0;34m,\u001b[0m \u001b[0mllm_mistral\u001b[0m\u001b[0;34m)\u001b[0m\u001b[0;34m.\u001b[0m\u001b[0mchat_loop\u001b[0m\u001b[0;34m(\u001b[0m\u001b[0;34m)\u001b[0m\u001b[0;34m\u001b[0m\u001b[0;34m\u001b[0m\u001b[0m\n\u001b[0m",
            "\u001b[0;32m/tmp/ipython-input-112-96749633.py\u001b[0m in \u001b[0;36mchat_loop\u001b[0;34m(self)\u001b[0m\n\u001b[1;32m     13\u001b[0m                 \u001b[0;32mbreak\u001b[0m\u001b[0;34m\u001b[0m\u001b[0;34m\u001b[0m\u001b[0m\n\u001b[1;32m     14\u001b[0m \u001b[0;34m\u001b[0m\u001b[0m\n\u001b[0;32m---> 15\u001b[0;31m             \u001b[0mcontexto_rag\u001b[0m \u001b[0;34m=\u001b[0m \u001b[0mself\u001b[0m\u001b[0;34m.\u001b[0m\u001b[0m_recuperador\u001b[0m\u001b[0;34m.\u001b[0m\u001b[0mrecuperar\u001b[0m\u001b[0;34m(\u001b[0m\u001b[0mquery\u001b[0m\u001b[0;34m)\u001b[0m\u001b[0;34m\u001b[0m\u001b[0;34m\u001b[0m\u001b[0m\n\u001b[0m\u001b[1;32m     16\u001b[0m \u001b[0;34m\u001b[0m\u001b[0m\n\u001b[1;32m     17\u001b[0m             \u001b[0mprompt\u001b[0m \u001b[0;34m=\u001b[0m \u001b[0mprompt\u001b[0m\u001b[0;34m.\u001b[0m\u001b[0mformat\u001b[0m\u001b[0;34m(\u001b[0m\u001b[0mquery\u001b[0m\u001b[0;34m,\u001b[0m \u001b[0mcontexto_rag\u001b[0m\u001b[0;34m)\u001b[0m\u001b[0;34m\u001b[0m\u001b[0;34m\u001b[0m\u001b[0m\n",
            "\u001b[0;32m/tmp/ipython-input-91-3851182888.py\u001b[0m in \u001b[0;36mrecuperar\u001b[0;34m(self, query)\u001b[0m\n\u001b[1;32m     16\u001b[0m             \u001b[0;32mreturn\u001b[0m \u001b[0mself\u001b[0m\u001b[0;34m.\u001b[0m\u001b[0m_bd_stats\u001b[0m\u001b[0;34m.\u001b[0m\u001b[0mejecutar_consulta\u001b[0m\u001b[0;34m(\u001b[0m\u001b[0mquery\u001b[0m\u001b[0;34m)\u001b[0m\u001b[0;34m\u001b[0m\u001b[0;34m\u001b[0m\u001b[0m\n\u001b[1;32m     17\u001b[0m         \u001b[0;32melif\u001b[0m \u001b[0mclase\u001b[0m \u001b[0;34m==\u001b[0m \u001b[0;34m\"relaciones\"\u001b[0m\u001b[0;34m:\u001b[0m\u001b[0;34m\u001b[0m\u001b[0;34m\u001b[0m\u001b[0m\n\u001b[0;32m---> 18\u001b[0;31m             \u001b[0;32mreturn\u001b[0m \u001b[0mself\u001b[0m\u001b[0;34m.\u001b[0m\u001b[0m_bd_rels\u001b[0m\u001b[0;34m.\u001b[0m\u001b[0mejecutar_consulta\u001b[0m\u001b[0;34m(\u001b[0m\u001b[0mquery\u001b[0m\u001b[0;34m)\u001b[0m\u001b[0;34m\u001b[0m\u001b[0;34m\u001b[0m\u001b[0m\n\u001b[0m\u001b[1;32m     19\u001b[0m \u001b[0;34m\u001b[0m\u001b[0m\n\u001b[1;32m     20\u001b[0m \u001b[0mrecuperador\u001b[0m \u001b[0;34m=\u001b[0m \u001b[0mRecuperador\u001b[0m\u001b[0;34m(\u001b[0m\u001b[0mbd_info\u001b[0m\u001b[0;34m=\u001b[0m\u001b[0mbd_vectorial_hibrida\u001b[0m\u001b[0;34m,\u001b[0m \u001b[0mbd_stats\u001b[0m\u001b[0;34m=\u001b[0m\u001b[0mbd_tabular\u001b[0m\u001b[0;34m,\u001b[0m \u001b[0mbd_rels\u001b[0m\u001b[0;34m=\u001b[0m\u001b[0mbd_grafo\u001b[0m\u001b[0;34m,\u001b[0m \u001b[0mclasificador\u001b[0m\u001b[0;34m=\u001b[0m\u001b[0mclasificador_llm\u001b[0m\u001b[0;34m)\u001b[0m\u001b[0;34m\u001b[0m\u001b[0;34m\u001b[0m\u001b[0m\n",
            "\u001b[0;32m/tmp/ipython-input-66-4091535850.py\u001b[0m in \u001b[0;36mejecutar_consulta\u001b[0;34m(self, consulta)\u001b[0m\n\u001b[1;32m     39\u001b[0m \u001b[0;34m\u001b[0m\u001b[0m\n\u001b[1;32m     40\u001b[0m     \u001b[0;32mdef\u001b[0m \u001b[0mejecutar_consulta\u001b[0m\u001b[0;34m(\u001b[0m\u001b[0mself\u001b[0m\u001b[0;34m,\u001b[0m \u001b[0mconsulta\u001b[0m\u001b[0;34m:\u001b[0m \u001b[0mstr\u001b[0m\u001b[0;34m)\u001b[0m \u001b[0;34m->\u001b[0m \u001b[0mpd\u001b[0m\u001b[0;34m.\u001b[0m\u001b[0mDataFrame\u001b[0m\u001b[0;34m:\u001b[0m\u001b[0;34m\u001b[0m\u001b[0;34m\u001b[0m\u001b[0m\n\u001b[0;32m---> 41\u001b[0;31m         \u001b[0mprompt\u001b[0m \u001b[0;34m=\u001b[0m \u001b[0mself\u001b[0m\u001b[0;34m.\u001b[0m\u001b[0m_prompt_base\u001b[0m\u001b[0;34m.\u001b[0m\u001b[0mformat\u001b[0m\u001b[0;34m(\u001b[0m\u001b[0mconsulta\u001b[0m\u001b[0;34m)\u001b[0m\u001b[0;34m\u001b[0m\u001b[0;34m\u001b[0m\u001b[0m\n\u001b[0m\u001b[1;32m     42\u001b[0m         \u001b[0mconsulta_sparql\u001b[0m \u001b[0;34m=\u001b[0m \u001b[0mself\u001b[0m\u001b[0;34m.\u001b[0m\u001b[0m_lm\u001b[0m\u001b[0;34m.\u001b[0m\u001b[0mgenerar_respuesta\u001b[0m\u001b[0;34m(\u001b[0m\u001b[0mprompt\u001b[0m\u001b[0;34m)\u001b[0m\u001b[0;34m.\u001b[0m\u001b[0mstrip\u001b[0m\u001b[0;34m(\u001b[0m\u001b[0;34m)\u001b[0m\u001b[0;34m\u001b[0m\u001b[0;34m\u001b[0m\u001b[0m\n\u001b[1;32m     43\u001b[0m \u001b[0;34m\u001b[0m\u001b[0m\n",
            "\u001b[0;31mKeyError\u001b[0m: 'self'"
          ]
        }
      ],
      "source": [
        "Chatbot(recuperador, llm_mistral).chat_loop()"
      ]
    },
    {
      "cell_type": "code",
      "execution_count": null,
      "metadata": {
        "id": "39yLY6zAUmyG"
      },
      "outputs": [],
      "source": []
    }
  ],
  "metadata": {
    "colab": {
      "collapsed_sections": [
        "qR6r8IElZNim",
        "QdYB9XAhhd6d",
        "QQN8rVAJ3ZzR"
      ],
      "provenance": []
    },
    "kernelspec": {
      "display_name": "Python 3",
      "name": "python3"
    },
    "language_info": {
      "name": "python"
    },
    "widgets": {
      "application/vnd.jupyter.widget-state+json": {
        "064818bea43f4b52a3e1fd11dbdee092": {
          "model_module": "@jupyter-widgets/base",
          "model_module_version": "1.2.0",
          "model_name": "LayoutModel",
          "state": {
            "_model_module": "@jupyter-widgets/base",
            "_model_module_version": "1.2.0",
            "_model_name": "LayoutModel",
            "_view_count": null,
            "_view_module": "@jupyter-widgets/base",
            "_view_module_version": "1.2.0",
            "_view_name": "LayoutView",
            "align_content": null,
            "align_items": null,
            "align_self": null,
            "border": null,
            "bottom": null,
            "display": null,
            "flex": null,
            "flex_flow": null,
            "grid_area": null,
            "grid_auto_columns": null,
            "grid_auto_flow": null,
            "grid_auto_rows": null,
            "grid_column": null,
            "grid_gap": null,
            "grid_row": null,
            "grid_template_areas": null,
            "grid_template_columns": null,
            "grid_template_rows": null,
            "height": null,
            "justify_content": null,
            "justify_items": null,
            "left": null,
            "margin": null,
            "max_height": null,
            "max_width": null,
            "min_height": null,
            "min_width": null,
            "object_fit": null,
            "object_position": null,
            "order": null,
            "overflow": null,
            "overflow_x": null,
            "overflow_y": null,
            "padding": null,
            "right": null,
            "top": null,
            "visibility": null,
            "width": null
          }
        },
        "0ceff66ddf6648feba6eed5a19d1d374": {
          "model_module": "@jupyter-widgets/base",
          "model_module_version": "1.2.0",
          "model_name": "LayoutModel",
          "state": {
            "_model_module": "@jupyter-widgets/base",
            "_model_module_version": "1.2.0",
            "_model_name": "LayoutModel",
            "_view_count": null,
            "_view_module": "@jupyter-widgets/base",
            "_view_module_version": "1.2.0",
            "_view_name": "LayoutView",
            "align_content": null,
            "align_items": null,
            "align_self": null,
            "border": null,
            "bottom": null,
            "display": null,
            "flex": null,
            "flex_flow": null,
            "grid_area": null,
            "grid_auto_columns": null,
            "grid_auto_flow": null,
            "grid_auto_rows": null,
            "grid_column": null,
            "grid_gap": null,
            "grid_row": null,
            "grid_template_areas": null,
            "grid_template_columns": null,
            "grid_template_rows": null,
            "height": null,
            "justify_content": null,
            "justify_items": null,
            "left": null,
            "margin": null,
            "max_height": null,
            "max_width": null,
            "min_height": null,
            "min_width": null,
            "object_fit": null,
            "object_position": null,
            "order": null,
            "overflow": null,
            "overflow_x": null,
            "overflow_y": null,
            "padding": null,
            "right": null,
            "top": null,
            "visibility": null,
            "width": null
          }
        },
        "2e1685fae7ee421e9b38593e0c78e0bf": {
          "model_module": "@jupyter-widgets/controls",
          "model_module_version": "1.5.0",
          "model_name": "DescriptionStyleModel",
          "state": {
            "_model_module": "@jupyter-widgets/controls",
            "_model_module_version": "1.5.0",
            "_model_name": "DescriptionStyleModel",
            "_view_count": null,
            "_view_module": "@jupyter-widgets/base",
            "_view_module_version": "1.2.0",
            "_view_name": "StyleView",
            "description_width": ""
          }
        },
        "40d58a8ea18140e6afb6c22ee9e07922": {
          "model_module": "@jupyter-widgets/controls",
          "model_module_version": "1.5.0",
          "model_name": "ProgressStyleModel",
          "state": {
            "_model_module": "@jupyter-widgets/controls",
            "_model_module_version": "1.5.0",
            "_model_name": "ProgressStyleModel",
            "_view_count": null,
            "_view_module": "@jupyter-widgets/base",
            "_view_module_version": "1.2.0",
            "_view_name": "StyleView",
            "bar_color": null,
            "description_width": ""
          }
        },
        "69dd2f6aeffd44fabbb5c385901ec55f": {
          "model_module": "@jupyter-widgets/controls",
          "model_module_version": "1.5.0",
          "model_name": "HBoxModel",
          "state": {
            "_dom_classes": [],
            "_model_module": "@jupyter-widgets/controls",
            "_model_module_version": "1.5.0",
            "_model_name": "HBoxModel",
            "_view_count": null,
            "_view_module": "@jupyter-widgets/controls",
            "_view_module_version": "1.5.0",
            "_view_name": "HBoxView",
            "box_style": "",
            "children": [
              "IPY_MODEL_aa1bf011eece44919f621aa75a525470",
              "IPY_MODEL_c6872a37d6f24dec9e92eeaf275375c5",
              "IPY_MODEL_845ea61aa467418dad8625706aad0984"
            ],
            "layout": "IPY_MODEL_e1543b2e61ef4f2eae3a0cb002ebc431"
          }
        },
        "845ea61aa467418dad8625706aad0984": {
          "model_module": "@jupyter-widgets/controls",
          "model_module_version": "1.5.0",
          "model_name": "HTMLModel",
          "state": {
            "_dom_classes": [],
            "_model_module": "@jupyter-widgets/controls",
            "_model_module_version": "1.5.0",
            "_model_name": "HTMLModel",
            "_view_count": null,
            "_view_module": "@jupyter-widgets/controls",
            "_view_module_version": "1.5.0",
            "_view_name": "HTMLView",
            "description": "",
            "description_tooltip": null,
            "layout": "IPY_MODEL_b7e3cc68f2dc476993ecc23eb99bdd0f",
            "placeholder": "​",
            "style": "IPY_MODEL_d25c9a881a604dd2ad95697900003318",
            "value": " 471M/471M [00:01&lt;00:00, 283MB/s]"
          }
        },
        "aa1bf011eece44919f621aa75a525470": {
          "model_module": "@jupyter-widgets/controls",
          "model_module_version": "1.5.0",
          "model_name": "HTMLModel",
          "state": {
            "_dom_classes": [],
            "_model_module": "@jupyter-widgets/controls",
            "_model_module_version": "1.5.0",
            "_model_name": "HTMLModel",
            "_view_count": null,
            "_view_module": "@jupyter-widgets/controls",
            "_view_module_version": "1.5.0",
            "_view_name": "HTMLView",
            "description": "",
            "description_tooltip": null,
            "layout": "IPY_MODEL_064818bea43f4b52a3e1fd11dbdee092",
            "placeholder": "​",
            "style": "IPY_MODEL_2e1685fae7ee421e9b38593e0c78e0bf",
            "value": "model.safetensors: 100%"
          }
        },
        "b7e3cc68f2dc476993ecc23eb99bdd0f": {
          "model_module": "@jupyter-widgets/base",
          "model_module_version": "1.2.0",
          "model_name": "LayoutModel",
          "state": {
            "_model_module": "@jupyter-widgets/base",
            "_model_module_version": "1.2.0",
            "_model_name": "LayoutModel",
            "_view_count": null,
            "_view_module": "@jupyter-widgets/base",
            "_view_module_version": "1.2.0",
            "_view_name": "LayoutView",
            "align_content": null,
            "align_items": null,
            "align_self": null,
            "border": null,
            "bottom": null,
            "display": null,
            "flex": null,
            "flex_flow": null,
            "grid_area": null,
            "grid_auto_columns": null,
            "grid_auto_flow": null,
            "grid_auto_rows": null,
            "grid_column": null,
            "grid_gap": null,
            "grid_row": null,
            "grid_template_areas": null,
            "grid_template_columns": null,
            "grid_template_rows": null,
            "height": null,
            "justify_content": null,
            "justify_items": null,
            "left": null,
            "margin": null,
            "max_height": null,
            "max_width": null,
            "min_height": null,
            "min_width": null,
            "object_fit": null,
            "object_position": null,
            "order": null,
            "overflow": null,
            "overflow_x": null,
            "overflow_y": null,
            "padding": null,
            "right": null,
            "top": null,
            "visibility": null,
            "width": null
          }
        },
        "c6872a37d6f24dec9e92eeaf275375c5": {
          "model_module": "@jupyter-widgets/controls",
          "model_module_version": "1.5.0",
          "model_name": "FloatProgressModel",
          "state": {
            "_dom_classes": [],
            "_model_module": "@jupyter-widgets/controls",
            "_model_module_version": "1.5.0",
            "_model_name": "FloatProgressModel",
            "_view_count": null,
            "_view_module": "@jupyter-widgets/controls",
            "_view_module_version": "1.5.0",
            "_view_name": "ProgressView",
            "bar_style": "success",
            "description": "",
            "description_tooltip": null,
            "layout": "IPY_MODEL_0ceff66ddf6648feba6eed5a19d1d374",
            "max": 470641600,
            "min": 0,
            "orientation": "horizontal",
            "style": "IPY_MODEL_40d58a8ea18140e6afb6c22ee9e07922",
            "value": 470641600
          }
        },
        "d25c9a881a604dd2ad95697900003318": {
          "model_module": "@jupyter-widgets/controls",
          "model_module_version": "1.5.0",
          "model_name": "DescriptionStyleModel",
          "state": {
            "_model_module": "@jupyter-widgets/controls",
            "_model_module_version": "1.5.0",
            "_model_name": "DescriptionStyleModel",
            "_view_count": null,
            "_view_module": "@jupyter-widgets/base",
            "_view_module_version": "1.2.0",
            "_view_name": "StyleView",
            "description_width": ""
          }
        },
        "e1543b2e61ef4f2eae3a0cb002ebc431": {
          "model_module": "@jupyter-widgets/base",
          "model_module_version": "1.2.0",
          "model_name": "LayoutModel",
          "state": {
            "_model_module": "@jupyter-widgets/base",
            "_model_module_version": "1.2.0",
            "_model_name": "LayoutModel",
            "_view_count": null,
            "_view_module": "@jupyter-widgets/base",
            "_view_module_version": "1.2.0",
            "_view_name": "LayoutView",
            "align_content": null,
            "align_items": null,
            "align_self": null,
            "border": null,
            "bottom": null,
            "display": null,
            "flex": null,
            "flex_flow": null,
            "grid_area": null,
            "grid_auto_columns": null,
            "grid_auto_flow": null,
            "grid_auto_rows": null,
            "grid_column": null,
            "grid_gap": null,
            "grid_row": null,
            "grid_template_areas": null,
            "grid_template_columns": null,
            "grid_template_rows": null,
            "height": null,
            "justify_content": null,
            "justify_items": null,
            "left": null,
            "margin": null,
            "max_height": null,
            "max_width": null,
            "min_height": null,
            "min_width": null,
            "object_fit": null,
            "object_position": null,
            "order": null,
            "overflow": null,
            "overflow_x": null,
            "overflow_y": null,
            "padding": null,
            "right": null,
            "top": null,
            "visibility": null,
            "width": null
          }
        }
      }
    }
  },
  "nbformat": 4,
  "nbformat_minor": 0
}
